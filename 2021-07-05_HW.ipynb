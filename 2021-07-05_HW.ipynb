{
 "cells": [
  {
   "cell_type": "code",
   "execution_count": 11,
   "metadata": {},
   "outputs": [
    {
     "name": "stdout",
     "output_type": "stream",
     "text": [
      "Collecting easydict\n",
      "  Downloading easydict-1.9.tar.gz (6.4 kB)\n",
      "Building wheels for collected packages: easydict\n",
      "  Building wheel for easydict (setup.py): started\n",
      "  Building wheel for easydict (setup.py): finished with status 'done'\n",
      "  Created wheel for easydict: filename=easydict-1.9-py3-none-any.whl size=6354 sha256=30852f97dcaa24e066c8783abd1fd95f3bcfa59672aa7a0697044b1f24e1ece0\n",
      "  Stored in directory: c:\\users\\senughee\\appdata\\local\\pip\\cache\\wheels\\d3\\e0\\e9\\305e348717e399665119bd012510d51ff4f22d709ff60c3096\n",
      "Successfully built easydict\n",
      "Installing collected packages: easydict\n",
      "Successfully installed easydict-1.9\n"
     ]
    }
   ],
   "source": [
    "# !pip install opencv_python\n",
    "!pip install easydict"
   ]
  },
  {
   "cell_type": "code",
   "execution_count": 12,
   "metadata": {},
   "outputs": [],
   "source": [
    "import cv2\n",
    "import numpy as np\n",
    "import matplotlib.pyplot as plt\n",
    "import easydict\n",
    "import os"
   ]
  },
  {
   "cell_type": "code",
   "execution_count": 13,
   "metadata": {},
   "outputs": [
    {
     "ename": "AttributeError",
     "evalue": "'EasyDict' object has no attribute 'add_argument'",
     "output_type": "error",
     "traceback": [
      "\u001b[1;31m---------------------------------------------------------------------------\u001b[0m",
      "\u001b[1;31mAttributeError\u001b[0m                            Traceback (most recent call last)",
      "\u001b[1;32m<ipython-input-13-bbe66338fae8>\u001b[0m in \u001b[0;36m<module>\u001b[1;34m\u001b[0m\n\u001b[0;32m      1\u001b[0m \u001b[0map\u001b[0m \u001b[1;33m=\u001b[0m \u001b[0measydict\u001b[0m\u001b[1;33m.\u001b[0m\u001b[0mEasyDict\u001b[0m\u001b[1;33m(\u001b[0m\u001b[1;33m)\u001b[0m\u001b[1;33m\u001b[0m\u001b[1;33m\u001b[0m\u001b[0m\n\u001b[1;32m----> 2\u001b[1;33m \u001b[0map\u001b[0m\u001b[1;33m.\u001b[0m\u001b[0madd_argument\u001b[0m\u001b[1;33m(\u001b[0m\u001b[1;34m\"-i\"\u001b[0m\u001b[1;33m,\u001b[0m \u001b[1;34m\"--image\"\u001b[0m\u001b[1;33m,\u001b[0m \u001b[0mrequired\u001b[0m\u001b[1;33m=\u001b[0m\u001b[1;32mTrue\u001b[0m\u001b[1;33m,\u001b[0m \u001b[0mhelp\u001b[0m\u001b[1;33m=\u001b[0m\u001b[1;34m\"C:/Users/SenugHee/Documents/GitHub/DCK_study/beenzino.jpg\"\u001b[0m\u001b[1;33m)\u001b[0m\u001b[1;33m\u001b[0m\u001b[1;33m\u001b[0m\u001b[0m\n\u001b[0m\u001b[0;32m      3\u001b[0m \u001b[0margs\u001b[0m \u001b[1;33m=\u001b[0m \u001b[0mvars\u001b[0m\u001b[1;33m(\u001b[0m\u001b[0map\u001b[0m\u001b[1;33m.\u001b[0m\u001b[0mEasy_Dict\u001b[0m\u001b[1;33m(\u001b[0m\u001b[1;33m)\u001b[0m\u001b[1;33m)\u001b[0m\u001b[1;33m\u001b[0m\u001b[1;33m\u001b[0m\u001b[0m\n\u001b[0;32m      4\u001b[0m \u001b[0mpath\u001b[0m \u001b[1;33m=\u001b[0m \u001b[0margs\u001b[0m\u001b[1;33m[\u001b[0m\u001b[1;34m'image'\u001b[0m\u001b[1;33m]\u001b[0m\u001b[1;33m\u001b[0m\u001b[1;33m\u001b[0m\u001b[0m\n\u001b[0;32m      5\u001b[0m \u001b[1;33m\u001b[0m\u001b[0m\n",
      "\u001b[1;31mAttributeError\u001b[0m: 'EasyDict' object has no attribute 'add_argument'"
     ]
    }
   ],
   "source": [
    "\n",
    "\n",
    "ap = easydict.EasyDict()\n",
    "ap.add_argument(\"-i\", \"--image\", required=True, help=\"C:/Users/SenugHee/Documents/GitHub/DCK_study/beenzino.jpg\")\n",
    "args = vars(ap.Easy_Dict())\n",
    "path = args['image']\n",
    "\n",
    "# 입력 받은 이미지를 불러옵니다.\n",
    "src = cv2.imread(path)\n",
    "\n",
    "# hsv 컬러 형태로 변형합니다.\n",
    "hsv = cv2.cvtColor(src, cv2.COLOR_BGR2HSV)\n",
    "# h, s, v로 컬러 영상을 분리 합니다. \n",
    "h, s, v = cv2.split(hsv)\n",
    "# v값을 히스토그램 평활화를 합니다.\n",
    "equalizedV = cv2.equalizeHist(v)\n",
    "# h,s,equalizedV를 합쳐서 새로운 hsv 이미지를 만듭니다.\n",
    "hsv2 = cv2.merge([h,s,equalizedV])\n",
    "# 마지막으로 hsv2를 다시 BGR 형태로 변경합니다.\n",
    "hsvDst = cv2.cvtColor(hsv2, cv2.COLOR_HSV2BGR)\n",
    "\n",
    "# YCrCb 컬러 형태로 변환합니다.\n",
    "yCrCb = cv2.cvtColor(src, cv2.COLOR_BGR2YCrCb)\n",
    "# y, Cr, Cb로 컬러 영상을 분리 합니다.\n",
    "y, Cr, Cb = cv2.split(yCrCb)\n",
    "# y값을 히스토그램 평활화를 합니다.\n",
    "equalizedY = cv2.equalizeHist(y)\n",
    "# equalizedY, Cr, Cb를 합쳐서 새로운 yCrCb 이미지를 만듭니다.\n",
    "yCrCb2 = cv2.merge([equalizedV, Cr, Cb])\n",
    "# 마지막으로 yCrCb2를 다시 BGR 형태로 변경합니다.\n",
    "yCrCbDst = cv2.cvtColor(yCrCb2, cv2.COLOR_YCrCb2BGR)\n",
    "\n",
    "# src, hsv, YCrCb 각각을 출력합니다.\n",
    "cv2.imshow('src', src)\n",
    "cv2.imshow('hsv dst', hsvDst)\n",
    "cv2.imshow('YCrCb dst', yCrCbDst)\n",
    "cv2.waitKey()\n",
    "cv2.destroyAllWindows()"
   ]
  },
  {
   "cell_type": "code",
   "execution_count": null,
   "metadata": {},
   "outputs": [],
   "source": []
  }
 ],
 "metadata": {
  "kernelspec": {
   "display_name": "Python 3",
   "language": "python",
   "name": "python3"
  },
  "language_info": {
   "codemirror_mode": {
    "name": "ipython",
    "version": 3
   },
   "file_extension": ".py",
   "mimetype": "text/x-python",
   "name": "python",
   "nbconvert_exporter": "python",
   "pygments_lexer": "ipython3",
   "version": "3.8.5"
  }
 },
 "nbformat": 4,
 "nbformat_minor": 4
}
