{
 "cells": [
  {
   "cell_type": "markdown",
   "metadata": {},
   "source": [
    "find() 함수 - 주어진 조건을 만족하는 첫 번째 태그 값만 가져오기"
   ]
  },
  {
   "cell_type": "code",
   "execution_count": 1,
   "metadata": {
    "collapsed": true
   },
   "outputs": [
    {
     "data": {
      "text/plain": [
       "<title> HTML 연습 </title>"
      ]
     },
     "execution_count": 1,
     "metadata": {},
     "output_type": "execute_result"
    }
   ],
   "source": [
    "# find() 함수를 이용하여 HTML코드 안에서 원하는 태그를 가져올 수 있습니다.\n",
    "# Beautiful Soup 예제 1\n",
    "\n",
    "from bs4 import BeautifulSoup\n",
    "ex1 = '''\n",
    "<html>\n",
    "    <head>\n",
    "        <title> HTML 연습 </title>\n",
    "    </head>\n",
    "    <body>\n",
    "        <p align=\"center\"> text 1 </p>\n",
    "        <img src=\"c:\\\\temp\\\\image\\\\솔개.png\">\n",
    "    </body>\n",
    "</html>\n",
    "'''\n",
    "\n",
    "soup = BeautifulSoup(ex1, 'html.parser')     # 파싱(분석)\n",
    "soup.find('title')"
   ]
  },
  {
   "cell_type": "code",
   "execution_count": 2,
   "metadata": {
    "collapsed": true
   },
   "outputs": [
    {
     "data": {
      "text/plain": [
       "<p align=\"center\"> text 1 </p>"
      ]
     },
     "execution_count": 2,
     "metadata": {},
     "output_type": "execute_result"
    }
   ],
   "source": [
    "soup.find('p')"
   ]
  },
  {
   "cell_type": "code",
   "execution_count": 3,
   "metadata": {},
   "outputs": [
    {
     "data": {
      "text/plain": [
       "<p align=\"center\"> text 1 </p>"
      ]
     },
     "execution_count": 3,
     "metadata": {},
     "output_type": "execute_result"
    }
   ],
   "source": [
    "#Beautiful Soup 예제 2\n",
    "\n",
    "from bs4 import BeautifulSoup\n",
    "ex1 = '''\n",
    "<html>\n",
    "    <head>\n",
    "        <title> HTML 연습 </title>\n",
    "    </head>\n",
    "    <body>\n",
    "        <p align=\"center\"> text 1 </p>\n",
    "        <p align=\"right\"> text 2 </p>\n",
    "        <p align=\"left\"> text 3 </p>\n",
    "        <img src=\"c:\\\\temp\\\\image\\\\솔개.png\">\n",
    "    </body>\n",
    "</html>\n",
    "'''\n",
    "\n",
    "soup = BeautifulSoup(ex1, 'html.parser')\n",
    "soup.find('p')\n",
    "# 총 3개의 p 태그 중에서 첫번째 1건만 가져온다."
   ]
  },
  {
   "cell_type": "markdown",
   "metadata": {},
   "source": [
    "태그에 속성을 추가로 지정해 사용하는 방법"
   ]
  },
  {
   "cell_type": "code",
   "execution_count": 4,
   "metadata": {
    "collapsed": true
   },
   "outputs": [
    {
     "data": {
      "text/plain": [
       "<p align=\"center\"> text 1 </p>"
      ]
     },
     "execution_count": 4,
     "metadata": {},
     "output_type": "execute_result"
    }
   ],
   "source": [
    "# Beautiful Soup 예제 3\n",
    "# 위와 똑같은 html코드 사용\n",
    "\n",
    "soup.find('p', align='center')"
   ]
  },
  {
   "cell_type": "code",
   "execution_count": 7,
   "metadata": {
    "collapsed": true
   },
   "outputs": [
    {
     "data": {
      "text/plain": [
       "<p align=\"right\"> text 2 </p>"
      ]
     },
     "execution_count": 7,
     "metadata": {},
     "output_type": "execute_result"
    }
   ],
   "source": [
    "soup.find('p', align='right')"
   ]
  },
  {
   "cell_type": "code",
   "execution_count": 8,
   "metadata": {
    "collapsed": true
   },
   "outputs": [
    {
     "data": {
      "text/plain": [
       "<p align=\"left\"> text 3 </p>"
      ]
     },
     "execution_count": 8,
     "metadata": {},
     "output_type": "execute_result"
    }
   ],
   "source": [
    "soup.find('p', align='left')"
   ]
  },
  {
   "cell_type": "markdown",
   "metadata": {},
   "source": [
    "find_all() 함수 - 해당 태그가 여러 개 있을 경우 한꺼번에 모두 가져오기"
   ]
  },
  {
   "cell_type": "code",
   "execution_count": 9,
   "metadata": {},
   "outputs": [],
   "source": [
    "# Beautiful Soup 예제 4\n",
    "\n",
    "from bs4 import BeautifulSoup\n",
    "ex1 = '''\n",
    "<html>\n",
    "    <head>\n",
    "        <title> HTML 연습 </title>\n",
    "    </head>\n",
    "    <body>\n",
    "        <p align=\"center\"> text 1 </p>\n",
    "        <p align=\"center\"> text 2 </p>\n",
    "        <p align=\"center\"> text 3 </p>\n",
    "        <img src=\"c:\\\\temp\\\\image\\\\솔개.png\">\n",
    "    </body>\n",
    "</html>\n",
    "'''\n",
    "\n",
    "soup = BeautifulSoup(ex1, 'html.parser')"
   ]
  },
  {
   "cell_type": "code",
   "execution_count": 11,
   "metadata": {},
   "outputs": [
    {
     "data": {
      "text/plain": [
       "[<p align=\"center\"> text 1 </p>,\n",
       " <p align=\"center\"> text 2 </p>,\n",
       " <p align=\"center\"> text 3 </p>]"
      ]
     },
     "execution_count": 11,
     "metadata": {},
     "output_type": "execute_result"
    }
   ],
   "source": [
    "# find_all() 함수로 모든 <p> 태그를 추출\n",
    "soup.find_all('p')"
   ]
  },
  {
   "cell_type": "code",
   "execution_count": 12,
   "metadata": {
    "collapsed": true
   },
   "outputs": [
    {
     "data": {
      "text/plain": [
       "[<p align=\"center\"> text 1 </p>,\n",
       " <p align=\"center\"> text 2 </p>,\n",
       " <p align=\"center\"> text 3 </p>,\n",
       " <img src=\"c:\\temp\\image\\솔개.png\"/>]"
      ]
     },
     "execution_count": 12,
     "metadata": {},
     "output_type": "execute_result"
    }
   ],
   "source": [
    "# 동시에 여러 가지 태그를 찾고 싶은 경우\n",
    "# p태그와 img태그를 찾고 싶은 경우\n",
    "soup.find_all(['p', 'img'])"
   ]
  },
  {
   "cell_type": "markdown",
   "metadata": {},
   "source": [
    "select() 함수 사용하기"
   ]
  },
  {
   "cell_type": "code",
   "execution_count": 56,
   "metadata": {},
   "outputs": [],
   "source": [
    "# select() 함수로 css_selector를 활용해서 태그를 찾는 방법\n",
    "ex2 = '''\n",
    "<html>\n",
    "    <head>\n",
    "        <h1> 사야할 과일\n",
    "    </head>\n",
    "    <body>\n",
    "        <h1> 시장가서 사야할 과일 목록\n",
    "            <div> <p id='fruits1' class='name1' title='바나나'> 바나나\n",
    "                <span class = 'price'> 3000원 </span>\n",
    "                <span class = 'count'> 10개 </span>\n",
    "                <span class = 'store'> 바나나가게 </span>\n",
    "                <a href = 'http://www.banana.com'> banana.com </a>\n",
    "                </p>\n",
    "            </div>\n",
    "            <div> <p id='fruits2' class='name2' title='체리'> 체리\n",
    "                <span class = 'price'> 100원 </span>\n",
    "                <span class = 'count'> 50개 </span>\n",
    "                <span class = 'store'> 체리가게 </span>\n",
    "                <a href = 'http://www.cherry.com'> cherry.com </a>\n",
    "                </p>\n",
    "            </div>\n",
    "            <div> <p id='fruits3' class='name3' title='오렌지'> 오렌지\n",
    "                <span class = 'price'> 500원 </span>\n",
    "                <span class = 'count'> 20개 </span>\n",
    "                <span class = 'store'> 오렌지가게 </span>\n",
    "                <a href = 'http://www.orange.com'> orange.com </a>\n",
    "                </p>\n",
    "            </div>\n",
    "    </body>\n",
    "</html>\n",
    "'''\n",
    "\n",
    "soup2 = BeautifulSoup(ex2, 'html.parser')"
   ]
  },
  {
   "cell_type": "code",
   "execution_count": 57,
   "metadata": {},
   "outputs": [
    {
     "data": {
      "text/plain": [
       "[<p class=\"name1\" id=\"fruits1\" title=\"바나나\"> 바나나\n",
       "                 <span class=\"price\"> 3000원 </span>\n",
       " <span class=\"count\"> 10개 </span>\n",
       " <span class=\"store\"> 바나나가게 </span>\n",
       " <a href=\"http://www.banana.com\"> banana.com </a>\n",
       " </p>,\n",
       " <p class=\"name2\" id=\"fruits2\" title=\"체리\"> 체리\n",
       "                 <span class=\"price\"> 100원 </span>\n",
       " <span class=\"count\"> 50개 </span>\n",
       " <span class=\"store\"> 체리가게 </span>\n",
       " <a href=\"http://www.cherry.com\"> cherry.com </a>\n",
       " </p>,\n",
       " <p class=\"name3\" id=\"fruits3\" title=\"오렌지\"> 오렌지\n",
       "                 <span class=\"price\"> 500원 </span>\n",
       " <span class=\"count\"> 20개 </span>\n",
       " <span class=\"store\"> 오렌지가게 </span>\n",
       " <a href=\"http://www.orange.com\"> orange.com </a>\n",
       " </p>]"
      ]
     },
     "execution_count": 57,
     "metadata": {},
     "output_type": "execute_result"
    }
   ],
   "source": [
    "# (1) select('태그이름')\n",
    "# <p> 태그의 내용을 모두 추출\n",
    "soup2.select('p')"
   ]
  },
  {
   "cell_type": "code",
   "execution_count": 58,
   "metadata": {
    "collapsed": true
   },
   "outputs": [
    {
     "data": {
      "text/plain": [
       "[<p class=\"name1\" id=\"fruits1\" title=\"바나나\"> 바나나\n",
       "                 <span class=\"price\"> 3000원 </span>\n",
       " <span class=\"count\"> 10개 </span>\n",
       " <span class=\"store\"> 바나나가게 </span>\n",
       " <a href=\"http://www.banana.com\"> banana.com </a>\n",
       " </p>]"
      ]
     },
     "execution_count": 58,
     "metadata": {},
     "output_type": "execute_result"
    }
   ],
   "source": [
    "# (2) select('.클래스명')\n",
    "# 태그 이름 앞에 . 이 있다는 것 주의\n",
    "soup2.select(' .name1')"
   ]
  },
  {
   "cell_type": "code",
   "execution_count": 59,
   "metadata": {
    "collapsed": true
   },
   "outputs": [
    {
     "data": {
      "text/plain": [
       "[<span class=\"price\"> 3000원 </span>,\n",
       " <span class=\"count\"> 10개 </span>,\n",
       " <span class=\"store\"> 바나나가게 </span>,\n",
       " <span class=\"price\"> 100원 </span>,\n",
       " <span class=\"count\"> 50개 </span>,\n",
       " <span class=\"store\"> 체리가게 </span>,\n",
       " <span class=\"price\"> 500원 </span>,\n",
       " <span class=\"count\"> 20개 </span>,\n",
       " <span class=\"store\"> 오렌지가게 </span>]"
      ]
     },
     "execution_count": 59,
     "metadata": {},
     "output_type": "execute_result"
    }
   ],
   "source": [
    "# (3) select(' 상위태그 > 하위태그 > 하위태그')\n",
    "# 부등호 앞 뒤로 공백이 반드시 들어가야 한다는 점 주의\n",
    "soup2.select(' div > p > span')"
   ]
  },
  {
   "cell_type": "code",
   "execution_count": 60,
   "metadata": {
    "collapsed": true
   },
   "outputs": [
    {
     "data": {
      "text/plain": [
       "<span class=\"price\"> 3000원 </span>"
      ]
     },
     "execution_count": 60,
     "metadata": {},
     "output_type": "execute_result"
    }
   ],
   "source": [
    "# 인덱싱 기능을 함께 사용\n",
    "soup2.select(' div > p > span')[0]"
   ]
  },
  {
   "cell_type": "code",
   "execution_count": 61,
   "metadata": {
    "collapsed": true
   },
   "outputs": [
    {
     "data": {
      "text/plain": [
       "<span class=\"count\"> 10개 </span>"
      ]
     },
     "execution_count": 61,
     "metadata": {},
     "output_type": "execute_result"
    }
   ],
   "source": [
    "soup2.select(' div > p > span')[1]"
   ]
  },
  {
   "cell_type": "code",
   "execution_count": 62,
   "metadata": {
    "collapsed": true
   },
   "outputs": [
    {
     "data": {
      "text/plain": [
       "<span class=\"store\"> 바나나가게 </span>"
      ]
     },
     "execution_count": 62,
     "metadata": {},
     "output_type": "execute_result"
    }
   ],
   "source": [
    "soup2.select(' div > p > span')[2]"
   ]
  },
  {
   "cell_type": "code",
   "execution_count": 63,
   "metadata": {
    "collapsed": true
   },
   "outputs": [
    {
     "data": {
      "text/plain": [
       "[<span class=\"store\"> 바나나가게 </span>]"
      ]
     },
     "execution_count": 63,
     "metadata": {},
     "output_type": "execute_result"
    }
   ],
   "source": [
    "# (4) select('상위태그.클래스이름 > 하위태그.클래스이름')\n",
    "soup2.select('p.name1 > span.store')"
   ]
  },
  {
   "cell_type": "code",
   "execution_count": 64,
   "metadata": {
    "collapsed": true
   },
   "outputs": [
    {
     "data": {
      "text/plain": [
       "[<p class=\"name1\" id=\"fruits1\" title=\"바나나\"> 바나나\n",
       "                 <span class=\"price\"> 3000원 </span>\n",
       " <span class=\"count\"> 10개 </span>\n",
       " <span class=\"store\"> 바나나가게 </span>\n",
       " <a href=\"http://www.banana.com\"> banana.com </a>\n",
       " </p>]"
      ]
     },
     "execution_count": 64,
     "metadata": {},
     "output_type": "execute_result"
    }
   ],
   "source": [
    "# (5) select('#아이디명')\n",
    "soup2.select('#fruits1')"
   ]
  },
  {
   "cell_type": "code",
   "execution_count": 65,
   "metadata": {
    "collapsed": true
   },
   "outputs": [
    {
     "data": {
      "text/plain": [
       "[<span class=\"store\"> 바나나가게 </span>]"
      ]
     },
     "execution_count": 65,
     "metadata": {},
     "output_type": "execute_result"
    }
   ],
   "source": [
    "# (6) select('#아이디명 > 태그명.클래스명')\n",
    "soup2.select(' #fruits1 > span.store')"
   ]
  },
  {
   "cell_type": "code",
   "execution_count": 66,
   "metadata": {
    "collapsed": true
   },
   "outputs": [
    {
     "data": {
      "text/plain": [
       "[<a href=\"http://www.banana.com\"> banana.com </a>,\n",
       " <a href=\"http://www.cherry.com\"> cherry.com </a>,\n",
       " <a href=\"http://www.orange.com\"> orange.com </a>]"
      ]
     },
     "execution_count": 66,
     "metadata": {},
     "output_type": "execute_result"
    }
   ],
   "source": [
    "# (7) select('태그명[속성1=값1]')\n",
    "soup2.select('a[href]')"
   ]
  },
  {
   "cell_type": "code",
   "execution_count": 67,
   "metadata": {
    "collapsed": true
   },
   "outputs": [
    {
     "data": {
      "text/plain": [
       "<a href=\"http://www.banana.com\"> banana.com </a>"
      ]
     },
     "execution_count": 67,
     "metadata": {},
     "output_type": "execute_result"
    }
   ],
   "source": [
    "soup2.select('a[href]')[0]"
   ]
  },
  {
   "cell_type": "markdown",
   "metadata": {},
   "source": [
    "태그 뒤의 텍스트만 추출하기"
   ]
  },
  {
   "cell_type": "code",
   "execution_count": 68,
   "metadata": {
    "collapsed": true
   },
   "outputs": [
    {
     "data": {
      "text/plain": [
       "' text 1 '"
      ]
     },
     "execution_count": 68,
     "metadata": {},
     "output_type": "execute_result"
    }
   ],
   "source": [
    "# string 사용시 한 번에 한 문장 밖에 가져오지 못한다\n",
    "txt = soup.find('p')\n",
    "txt.string"
   ]
  },
  {
   "cell_type": "code",
   "execution_count": 69,
   "metadata": {
    "collapsed": true
   },
   "outputs": [
    {
     "name": "stdout",
     "output_type": "stream",
     "text": [
      " text 1 \n",
      " text 2 \n",
      " text 3 \n"
     ]
    }
   ],
   "source": [
    "# 태그 안에 존재하는 여러 개의 문장을 한꺼번에 가져오기\n",
    "txt2 = soup.find_all('p')\n",
    "for i in txt2:\n",
    "    print(i.string)"
   ]
  },
  {
   "cell_type": "code",
   "execution_count": 72,
   "metadata": {
    "collapsed": true
   },
   "outputs": [
    {
     "name": "stdout",
     "output_type": "stream",
     "text": [
      " text 1 \n",
      " text 2 \n",
      " text 3 \n"
     ]
    }
   ],
   "source": [
    "# get_text() 함수 사용하는 방법\n",
    "txt3 = soup.find_all('p')\n",
    "for i in txt3:\n",
    "    print(i.get_text())"
   ]
  },
  {
   "cell_type": "code",
   "execution_count": 74,
   "metadata": {
    "collapsed": true
   },
   "outputs": [
    {
     "name": "stdout",
     "output_type": "stream",
     "text": [
      "====================================================================================================\n",
      " 이 크롤러는 RISS 사이트의 논문 및 학술자료 수집용 웹크롤러입니다.\n",
      "====================================================================================================\n",
      "1. 수집할 자료의 키워드는 무엇입니까?(여러개일 경우 , 로 구분하여 입력): 해양자원\n",
      "\n",
      "\n",
      "1   지속가능한 해양관광 발전방안에 대한 연구 : 관광자원개발을 중심으로  김선종 연세대학교 행정대학원 2008 국내석사  RANK : 13634431    원문보기  음성듣기               삼면이 바다로 둘러싸여 천혜의 해양국가인 우리나라는 세계적 수준의 자연관광자원을 보유하고 있으며 연안을 중심으로 관광활동에 좋은 지형적 지리적 조건을 갖추고 있다. 특히, 우리나라 해안은 지형 및 지세, 기상 등 자원특성이 서로 달라 각 해안별로 독특한 자연조건을 갖고 있어 해양관광발전 잠재력이 매우 크다. 수질이 깨끗하고 백사장이 잘 발달된 동해안은 해수욕에 유리하고, 수심이 낮고 갯벌이 발달된 서해안은 생태관광의 보고이며, 기후가 온난하고 호수와 같은 잔잔한 내해를 이루고 있는 남해안은 스포츠형관광의 최적의 자연자원을 보유하고 있다.바다와 육지가 맞닿아 서로 밀접한 영향을 주고받으면서 특수한 자원?환경시스템을 이루는 연안(沿岸)은 해변?갯벌?만?삼각주 등 다양한 모습을 보이고 있으며, 그동안 수산물의 산란장과 서식지로서 항만?임해공단 등 경제활동공간으로서 도시가 발달하고 인구가 집중되어있는 중요한 활동공간이었으나, 이제는 레저스포츠 등 관광활동공간으로서 그 중요성이 더해가고 있다.우리나라는 우수한 자연관광자원을 보유하고 있으나 그동안 육상위주의 레저 및 관광정책추진으로 해양관광은 크게 발전하지 못하고 있다. 그러나 국민들의 소득수준 증가와 더불어 주2일 휴무제 정착에 따른 여가시간의 증대 등 라이프스타일 변화로 직접체험을 즐길 수 있는 해양레저스포츠 등 관광수요는 크게 증가할 것으로 보인다.이러한 좋은 여건에도 불구하고 자치단체에서는 사전 타당성 검토가 부족한 대단위 관광단지 위주의 개발계획들만을 경쟁적으로 추진하고 있어 증가하고 있는 해양관광수요에는 효과적으로 대응하지 못하는 문제점을 노출하고 있다. 따라서 우수한 자연자원을 효과적으로 활용하고, 새로운 해양관광수요를 수용하고 발전시킬 수 있는 활성화대책 마련이 긴요한 실정이다.육지관광과는 달리 해양에서의 관광활동은 안전에 대한 관심뿐만이 아니라 환경에 대한 검토도 충분히 이루어져야만 좋은 관광환경이 조성될 수 있다. 특히, 자치단체별로 관광자원개발계획 추진시 이에 대한 SWOT분석을 이행하고 있으나 대부분 최적의 조건만을 생각하고 이를 검토하여 결국은 사업추진 원동력이 떨어지고 있다. 해양관광도 육상과 동일하게 취급되어져 특색을 갖추지 않고 차별화되지 못한 자원개발이 되고 있어 최근 많은 수요발생에도 효과적으로 대응하지 못하고 있는 실정이다.따라서 우리나라 연안?해양에서의 해양관광발전을 위해 추진하고 있는 관광자원개발 사업에 대한 정책적 문제점을 살펴보고 해양관광자원개발 사업에 대한 SWOT를 제시하여 해양관광 활성활를 위한 바람직한 정책적 방안을 제시하였다.\n",
      "\n",
      "\n",
      "원문보기\n",
      "\n",
      "\n",
      "음성듣기\n",
      "\n",
      "\n",
      "   The Ungcheon area in ​​Yeosu had the form of a complex tourist attraction utilizing various resources such as natural resources, ecological resources, spatial resources, island resources, and social activities resources. If marine biological resources with detailed plans and guidance were specifically scoped and re-examined, and if educational programs were formed based on biological resources, and if experts were cultivated, and related programs such as experiences and leisure were conceived, it can be a sufficiently active plan.  In addition, if a systematic system for continuous operation and management were established through a profit-structured community project that can be increased the participation of local residents, the Ungcheon area could be the most complex tourist attraction utilizing marine biological resources in Yeosu. It can be a model that both residents and workers can be satisfied with.\n",
      "\n",
      "\n",
      "복사/대출신청\n",
      "\n",
      "\n",
      "  Using the guidelines on investigation into the development of tourist resources, according to data collection, analysis and study.And in this study, Busan, Korea and Qingdao and compare the various statistics and local groups not sleep in Qingdao, through its data to analyze problems and of the development of marine resources.Concrete improvement plan.nts. on to promote economic development and, ultimately, to intensification of the All social benefits.construction, marine tourism, offshore oil industry are maritime nations in particular maritime economy as a new Minister of Economy, Trade and Industry to thinking of Marine Tourism is a lot of people with new tourism activities can be seen as one of the attention\n",
      "\n",
      "\n",
      "원문보기\n",
      "\n",
      "\n",
      "목차검색조회\n",
      "\n",
      "\n",
      "음성듣기\n",
      "\n",
      "\n",
      "4   해양경계획정 이전 권원중첩수역에서의 자원개발과 환경보호  이영주 연세대학교 대학원 2014 국내석사  RANK : 13634431    원문보기  음성듣기               1994년 바다의 헌법이라 불리는 UN해양법협약이 발효되면서 연안국은 200해리의 배타적경제수역와 200해리 이상 350해리 이하의 대륙붕의 자원에 대한 주권적 권리를 보유하게 되었다. 이러한 관할권의 수평적 확대는 지리적으로 바다의 폭이 400해리 또는 700해리보다 좁은 해역에서 권원중첩수역(area of overlapping entitlement)을 많이 만들어냈고 인접국 또는 대항국 간의 경계획정의 필요성이 그 어느 때 보다 커졌다. 그러나 경계획정은 다면적 성격을 가진 복잡한 문제로서 그 합의에 오랜 시간이 걸리거나 불투명한 문제이다. 전 세계의 잠재적 해양경계선 중 절반 이상은 합의되지 못한 채 잠재적 분쟁수역으로 남아있다. 전 세계적으로 자원전쟁의 시대에서 기술의 발전으로 해양자원의 개발가능성이 높아지면서 경계획정에 합의되지 못하는 것은 해양질서의 불안정성을 가져오는 등 점점 더 큰 국제법적 문제를 제기할 것으로 예상된다. 해양경계획정협상에 실패했다고 해서 권원중첩수역이 협력이 없는 잠재적 분쟁수역으로 남아있어서는 안될 것이다. 인접국가와 해양경계의 ‘선'(line)을 그리는 작업(즉 해양경계획정협상)에 진척이 없다 하더라도 다른 협력적 수단을 강구할 필요가 있다. 왜냐하면 그 ‘선을 넘나드는' 많은 수산물자원과 그 ‘선에 걸쳐' 부존되어 있는 지하광물자원, 그리고 그 ‘선과 관계없이' 해류를 따라 이동하는 바닷물이 오염될 경우 그 바닷물을 공유하고 있기 때문이다. 국가들이 권원중첩수역에서 협력하지 못하고 갈등하는 사이에 그들은 그 바다에 있는 수산물자원과 지하광물자원 및 잠재적 자원을 개발 기회를 놓치며 동시에 적절한 해양환경보호가 이루어지지 못하여 장기적인 관점에서 다시 바다가 주는 엄청난 기회를 놓쳐버리는 어리석음을 스스로 범할 수 있다. 따라서 이 글은 해양경계획정의 교착상태(deadlock)에 대한 실제적인 대안(practical solution)으로 UN해양법협약 제 74조 3항과 제 83조 3항에 집중한다. 우선, 동 조항에 대한 해석의 지침이 되는 Gayana v. Suriname 사건의 판결을 검토함으로써 권원중첩수역에서 국가의 의무를 확인하고 일방적인 자원개발이 초래하는 문제점을 보여준다. 다음으로 동 조항에서 국가들에게 최대한 노력을 기울일 의무(shall make every effort)를 부과하고 있는 잠정약정(provisional arrangement)에 대해 자세히 검토한다. 잠정약정은 경계획정 문제 그 자체를 해결하지는 못하지만 실제로 권원중첩수역에서 발생하는 분쟁을 상당히 완화시킬 수 있는, 분쟁의 평화적인 해결방법이다.  대부분의 잠정약정은 권원중첩수역에서의 해양자원개발을 위한 협력인 JDA(Joint Development Agreement)의 형식으로 이루어진다. UN해양법협약 제 73조 3항와 제 83조 3항에 따른 JDA의 체결은 권원중첩수역을 자원개발 ‘금지' 수역에서 ‘가능'수역으로 전환시키는 효과가 있으며, 연안국의 권리 및 의무의 범위를 명확히 하여 상당한 안정성을 부여하는 효과가 있다. 이 글에서는 남중국해의 2개, 페르시아만의 2개, 동아시아해의 4개, 인도양의 2개, 카리브해의 2개, 대서양의 3개 JDA 즉 총 15개의 JDA의 조문을 분석한다. 한편, UN해양법협약의 포괄적인 환경보호규범과 그 이후 국제법의 점진적 발전으로 새로운 원칙들의 규범적인 발전에도 불구하고, 권원중첩수역은 현실적으로 자원의 남획이나 해양오염의 문제가 효과적으로 규율되지 못하는 환경보호의 사각지대가  될 가능성이 높다. 한편 오늘날 해양자원개발과 해양환경보호는 동시에 추구되어야 하는 동전의 양면 관계이다. 이에 따라 현대국제법의 중요한 원칙으로 자리잡아 가고 있는(구체적인 모습을 드러내며 발전중인) 지속가능한 발전이라는 큰 목표 아래서 해양에서의 자원개발과 경제적 이득을 주요 동기로 하는 JDA 중 최근에 체결된 일부 JDA는 환경 배려적인 규정을 포함시킴으로로서 자원개발과 환경보호의 조화로운 관계(balanced relationship)를 모색하고 있다. 본 논문은 특히 UN해양법협약보다 발전된/진화된 수준의 환경보호규정을 포함하고 있는 JDA인 1989년 티모르갭조약, 2001년 티모르해조약, 2001년 나이지리아-사오톰 JDA, 2003년 가야나-바베이도스JDA에 대해 검토한다. 그러나 한편으로 JDA는 자원의 분배를 해야 한다는 민감한 문제를 수반하는 만큼 그 체결이 어렵고 해양환경보호가 공동의 이해관계를 도출하는 데 상대적으로 수월할 수 있다는 점을 인지하고, 권원중첩수역에서 오늘날 발전되고 있는 원칙인 생태계적 접근법(ecosystem approach)에 기초한  공동보호합의(Joint Protection Agreement, JPA)를 제안한다.  우리나라도 3면이 바다로 둘러 싸여 있음에도 불구하고 3면 모두 인접국과 경계획정을 하지 못하고 권원중첩수역을 가지고 있는 한편, 최근 우리 정부가 CLCS에 관한 해양권원을 주장하는 노력을 포함하여 해양자원의 개발에 박차를 가하고 있다. 결론적으로 본 논문은 앞으로도 계속적으로 해양경계획정협상에 임할 우리나라에게 JDA와 JPA의 유용성과 각각의 협상방향을 제시하였다. 권원중첩수역에서 자원개발과 환경보호에 관한 잠정적인 질서를 수립하고 이를 운용하는 과정에서 한중일 동북아 3국 사이에 신뢰가 보다 구축된다면 경계획정협상에서도 성공의 돌파구가 보이기 시작할 것이다.\n",
      "\n",
      "\n",
      "원문보기\n",
      "\n",
      "\n",
      "음성듣기\n",
      "\n",
      "\n",
      "5   島嶼觀光資源開發이 海洋觀光産業에 미치는 經濟的 波及效果  김두성 부산대학교 2012 국내박사  RANK : 13634431    원문보기 목차검색조회  음성듣기               본 연구에서는 부산 해역 무인도서가 갖고 있는 해양자원개발을 통하여 지역경제활성화의 한 축으로 편입시켜야 할 것으로 판단하였다. 이는 지구상에 남아 있는 마지막 자원의 보고인 해양을 둘러싼 글로벌화 경쟁이 가속화하는 시점으로 도서의 관광자원개발은 지역개발에 있어 새로운 관광산업 형태로 부상하고 있기 때문이다(김영준, 2011). 이러한 흐름은 국외는 물론 국내의 남해안, 서해안을 중심으로 도서개발을 통한 해양관광자원개발 사업 추진으로 지역에 미치는 경제파급효과는 매우 높게 나타나고 있다. 부산지역의 경우 도서 자체의 인접성ㆍ격절성ㆍ과소성 등에 있어 취약성 때문에 대량 관광객 유인에 한계가 있을 것으로 판단하여 내륙의 관광개발 보다는 소외된 것이 사실이다. 따라서 지역 도서들이 갖고 있는 잠재 해양자원을 개발하여 새로운 도서관광산업을 육성하는 것이 매우 중요하다. 이러한 관점에서 본 연구에서는 해양관광자원개발 관광콘텐츠 개발을 제안하였고 크게 3개 권역을 묶어 도서관광벨트화라는  큰 프레임을 구축하였다. 아울러 이들 3개 권역 도서들이 갖고 있는 해양자원은 관광상품으로 재생산될 수 있는 여건(환경)을 충분히 갖추고 있는 것으로 판단하였다.   실제로 실증분석결과 본 사업의 지역해양관광산업에 대한 기여효과는 해수욕장 사업을 제외한 기타 해양관광산업에 미치는 경제적 파급효과는 높게 나타났으며, 전후방연쇄효과 측정 결과 또한 연관산업에 미치는 파급효과가 비교적 높은 것으로 분석되었다. 세부 산업별로 운수 및 보관업(1.9124), 음식점 및 숙박업(1.7732), 사회 및 기타서비스업(1.1254)종의 경우 산업의 후방연쇄효과를 나타내는 영향력계수 높게 나타난다. 아울러 전방연쇄효과를 나타내는 감응도계수 또한 비교적 높은 수치를 보이고 있어서 일반 서비스업 및 제조업과 비교할 때 산업에 미치는 영향력이 큰 것으로 볼 수 있다.  한편, 도서관광인프라구축 시설 투자에 따른 지역경제파급효과 분석결과 부가가치유발효과 및 고용유발효과는 기본적으로 생산유발효과의 크기에 연동되는 것으로 나타났지만 지역별로 다소 차이를 보였다. 이는 부산지역에 미치는 산업별 경제적 유발효과는 주로 직접 투자지출 산업에서 크게 발생하였고 여타 산업에는 미미한 효과를 미친다는 점으로 지역의 경우 건설업을 제외하고 상대적으로 큰 영향을 받는 건설 중간재 생산 제조업의 경우도 전체 산업에서 차지하는 비중이 낮은 산업구조를 띠고 있다는 점을 알 수 있다.  또한 지역별로 사업투자 비용의 상대적 이입율이 낮은 서울의 경우 생산유발액이 높게 나타나고 있어서 공사의 설계, 감리 및 전자기기 등의 고부가가치 산업이 수도권에 집중되어 있음을 확인할 수 있었다. 그러나 분석 결과 전체적으로 총산출, 부가가치 및 생산유발, 부가가치유발, 고용유발효과 측면에서 당장에 지역에 미치는 영향력이 기대하는 만큼의 경제적 효과를 가져다 주지는 않지만 이러한 측정 결과는 향후 해양관광수요의 증대와 더불어 높은 관광수입의 창출로 동 산업은 물론 지역경제에 미치는 파급효과는 매우 높아질 것이라는 예측이 가능하다.  이러한 관점에서 해양관광산업은 미래 성장동력산업으로 인식되고 있어 그 시장 규모가 날로 확대되어갈 것이며, 부산의 경우 우수한 해양관광자원을 보유하고 있는 지역으로 이들 자원을 활용한 새로운 관광콘텐츠 개발에 많은 에너지를 투입하여야 하고 동 산업의 육성을 위하여 지역의 환경적 특성과 산업적 특성이 동시에 고려된 고부가가치산업으로의 성장 전략이 필요하다. 아울러 지역 차원의 산업구조 개편전략을 구체적으로 수립하는 과정에서 해당 산업의 경제적 파급효과는 주요한 판단 기준이 됨으로 도서관광자원개발 사업에 대한 정확한 파급효과 분석은 중요한 의미를 갖는다. This study is undertaken for economic effects of marine tourism resources through the development of islands on the region on the basis of reviewing the characteristics and development of islands scheme of marine resource in the islands for each coastal territory around Busan and its outcome of analysis thereof. For its details, such effort is considered to transfer into part of regional economy facilitation through the development of unlimited marine resource available in uninhabited islands in the coastal area of Busan. And by developing the urban tourism industry with certain theme, it is expected to bring the regional economy facilitation. Under this point of view, this study has proposed strategy for marine tourism resource by combining the three major regions to structure a larger frame in building up the “Busan Maritime Tourism Belt”.   The marine resource available in these 3 regional islands are sufficiently equipped with the conditions to be reproduced as tourism product and presented the tourism resource plan on potential marine resource. In addition, as a result of empirical analysis of economic dispersion effect of this project, it is known to generate higher economic effect than other service industry, manufacturing industry and others on a long-term basis. On the other hand, the trend of domestic and overseas tourism industry development is to realize the high added-value industrialization by facilitating natural resources, marine resource, history and cultural resources in the island areas and discover that it could be developed into new growth industry in the regional level in discovering diverse themes in resort, experience and things to see by facilitating the marine resource in islands. In addition, following the improvement of quality of life and facilitation of marine resource and water leisure life for people, there is phenomenon with higher value for facilitation in the island areas, and along with the trend, the trend shows to have the continuous expansion of demand for tourism to prefer island tourism compared to the land tourism with the expansion of maritime tourism infra. Therefore, this is the reason to paying attention to marine tourism industry as new growth paradigm facilitating island resources by breaking away from existing tourism pattern that is depended on qualitative investment on inland tourism.   In addition, in the process of establishing industrial structure revision strategy of regional level in details, the economic effect in the applicable industry is one of the important decision making criteria that the accurate analysis of dispersion effect on the marine tourism industry has important implications. Under this context, as a result of analyzing the economic effect from this project,, it does not bring the economic effect that would fulfill the expectation for the regions immediately in formulation, added-value and production stimulation, added-value stimulation and employment stimulation aspects, but it shows to bring high economic effect comparing to other service industry, manufacturing industry and others for each industrial fields on long-term basis.      Therefore, in order to maximize the economic effect of neo-marine tourism industry through the development of islands, it is important to consider the effect for each related industry and regional economic industry. Furthermore, through undertaking this project, the economic environment structure has to be structured as appropriate to generate synergy effect of related industries and seeking for high added-value industrial diversification for the regional level. Under the globalized economic system, countries have invested significant energies into developing marine tourism industry as the neo-growth engine industry for national economic facilitation. In particular, such industrial activities by coastal countries around Mediterranean countries have been actively undertaken. This fact would have to be realized that it has the sufficient value as national economy-leading industry and commercialize the marine tourism resource of the region to improve regional economy facilitating, urban image making and identity of regional resident through marketing activities to inform the specialized marine resource for tourists who visit the areas.  However, in the event of the Busan area, the activity outcome or the scale of marine tourism industry that facilitated the marine resource is still insufficient compared to other island regions in western and southern coastal regions in Korea. Under this context, for the case of the Busan area, it lacks the clear growth engine industry together with the declination of manufacturing industry, and it requires more energy in development of marine tourism industry by facilitating the marine resource. In particular, the Busan area has naturally blessed tourism resource and location related to maritime use as it is referred to as the maritime capital. The Island Tourism Belt project that is connected of island areas for each of 3 regions to develop the industry as presented in this study would work as a new growth engine for regional economic facilitation in the Busan area as well as improving the resident income around the islands by discovering diverse themes of nature, ecology, history, culture and well-being for each island area, and such efficient facilitation of idle island resource would be a new turning point of island development policy.\n",
      "\n",
      "\n",
      "원문보기\n",
      "\n",
      "\n",
      "목차검색조회\n",
      "\n",
      "\n",
      "음성듣기\n",
      "\n",
      "\n",
      "6   해양관광유형과 관광자원 가치가 주민참여의도에 미치는 영향 : 당진시를 중심으로  이길호 경기대학교 관광전문대학원 2014 국내박사  RANK : 13634431    원문보기 목차검색조회  음성듣기               21세기는 문화시대이자 창의적 산업시대이며 감성적 소통 시대이다. 최근 들어 국민소득 증대와 함께 생활수준이 향상되고 주 5일 근무 정착에 따른 여가시간 확대로 관광 및 레저에 대한 관심도가 증가하고 있으며 관광 패턴이 육지위주에서 해양위주로 변화하고 있다. 3면이 바다로 둘러 싸여있는 우리나라는 천혜의 해양관광자원 보고이며 축복받은 해양관광자원이 곳곳에 산재되어 있다. 따라서 해양관광자원을 개발위주의 근대 공간에서 탈피하고 장소성이 있는 공간으로 창출하여 관광자와 지역주민의 삶의 질을 높이는 한편, 자연과 환경을 보전하고 지역주민 경제적 활성화를 증대 시키는 일이 요구되고 있다. 따라서 지방자치제도 시행 이후 각 지자체들은 지역경제 활성화 방안으로 지역종합발전계획을 수립하고 더 많은 외래관광객 유입을 목표로 관광시책을 추진하고 있으나 지자체 관심과 의욕에 비하여 관광발전시책이 성공적이지 못한 사례가 여러 곳에서 나타나고 있는 현실이다. 그 원인의 대부분은 관광객 유인을 위한 방안으로 관주도의 일방적인 관광개발에 치중하여 새로운 관광지 조성을 위한 개발 사업에 주력해 왔기 때문이다. 이는 공급자 중심 시설개발에서 수요자 중심 관광만족도 제고를 위한 방법이 미흡한 것으로 해석된다. 따라서 관주도 관광자원 관리방식을 탈피하여 지자체와 관광전문가, 관광사업자, 그리고 지역주민과 협의 하에 보호, 보전, 개발의 관광자원 관리의 필요성이 중요시 되고 있다.우리나라는 육지면적의 3배가 넘는 34만 5,000㎢에 달하는 대륙붕과 수심 20m 내․외 해역도 국토 3분의 1에 해당하며, 11,542㎞에 달하는 해안선을 보유하고 있다. 또한 3,200여 개의 도서를 보유하고 있으며, 갯벌 면적은 남한 면적 2.5%에 달하는 2,815㎢로서 세계 5대 갯벌자원 중 하나를 소유하고 있다. 해양관광 자원은 해변, 해상, 해중, 해저 공간으로 구성되어 있으며 해양 공간별로 각각 특별한 환경을 갖추고 있으며 이용방법에 따라 다양한 관광형태의 자원을 보유하고 있다. 이러한 천혜의 조건에서 해양관광의 유형별 다양성을 고려하여 해양관광자원의 현명한 관리로 해양관광경쟁력을 제고시키고 해양관광 활성화를 통하여 지역발전과 생태․환경, 삶의 질 향상 등의 혜택을 누릴 수 있어야 한다. 또한 해양관광 유형 선호에 따라 보전, 보호, 개발 측면에서 자원을 관리하여 관광활성화 방안에 대하여 심사숙고하여 개발방향을 설정, 추진하여 지자체 여건에 적합한 차별화된 관광인프라 구축으로 경쟁력을 강화해 나갈 필요성이 강조되고 있다.수 년 전부터 정부와 각 지자체에서 활발하게 해양관광개발을 추진하고 있는 이유도 다양한 형태로 증가하고 있는 관광현상에 따라 정적인 형태의 보는 관광 위주에서 체험위주의 활동성이 강한 동적인 형태의 관광으로 변모해 가고 있는 현상에 따른 것이다.다수의 해양관광자원관리는 지자체의 무조건적인 독창성 없는 개발, 민자유치의 부진, 지역사회 파급효과의 미흡 등이 문제점으로 지적되고 있는 현실로 4계절 기후가 뚜렷한 우리나라의 여건에 맞는 지자체의 차별화된 관광자원관리로 발전적 방향 모색을 통하여 긍정적인 방안을 찾아야 할 것이다.본 연구는 충남 당진시의 해양관광유형 선호와 보유 해양관광자원의 가치인식에 따라 관광자원 관리방안 모색을 통한 관리방향 설정과 그에 따른 지역 주민에게 가져다주는 혜택과 주민참여의도에 대하여 당진시를 중심으로 분석하고 그 결과를 토대로 앞으로의 해양관광자원관리에 따른 해양관광 활성화 방안을 제시하고자 한다.\n",
      "\n",
      "\n",
      "원문보기\n",
      "\n",
      "\n",
      "목차검색조회\n",
      "\n",
      "\n",
      "음성듣기\n",
      "\n",
      "\n",
      "7   GIS기반 해양광물자원정보시스템 개발에 관한 연구  김동일 인하대학교 대학원 2013 국내석사  RANK : 13634430    원문보기 목차검색조회  음성듣기               최근 전 세계적으로 석탄, 석유 등 육상자원의 고갈로 인하여 해양광물자원에 대한 관심이 증가하고 있다. 특히 광물자원의 해외 의존도가 높은 우리나라에서도 한반도 주변 해역의 해양광물자원을 확보하기 위한 탐사와 연구를 진행하고 있으며, 이를 통해 매년 방대한 양의 자료가 생성되고 있다. 그러나 오랜 기간 탐사를 통해 축적된 방대한 양의 탐사자료는 관리와 활용 체계의 부재로 인해 체계적인 관리가 이루어지고 있지 않으며 이로 인해 자료의 중복 구축 및 분실과 자료 활용도를 낮추고 있는 실정이다.이러한 배경에서 본 연구에서는 해양탐사자료를 데이터베이스로 구축하고 GIS기반의 관리시스템을 개발하여 매년 생산되는 해양탐사자료의 체계적인 관리와 효율적인 활용에 대한 연구를 진행하였다. 이를 위해 전문가 면담을 통해 해양탐사자료의 관리를 위한 자료 항목 정의와 해양탐사자료 표출 기능을 정의하였다. 정의된 내용을 기반으로 한반도 주변해역에서 탐사를 통해 생성된 해양탐사자료를 수집하고 도형자료와 속성자료로 분류하였으며, 설계를 통해 데이터베이스에 구축하였다. 또한, 본 연구에서는 해양탐사자료가 구축된 데이터베이스의 효율적인 활용을 위해 해양탐사자료의 시각적 표출을 지원하는 GIS기반의 해양광물자원정보시스템을 설계하고 개발하였다. 해양광물자원정보시스템에서는 도형자료와 속성자료의 조회와 3차원 표출 등을 지원하여 다양한 방법의 해양탐사자료 활용을 위한 연구를 진행하였다. 본 연구를 통해 구축된 해양탐사자료 데이터베이스는 오랜 기간 동안 생성되고 축적되었지만 제대로 관리되지 않던 해양탐사자료를 총괄적으로 관리하게 함으로써 해양광물자원 연구 수행 시 자료의 소재 파악이 쉽고 중복 구축을 최소화하여 시간적, 비용적 측면에서 효율적이며, 향후 생성되는 탐사자료의 효율적인 갱신을 지원할 것으로 기대된다. 또한, GIS기반 해양광물자원정보시스템 개발을 통해 해양탐사자료의 위치를 시각적으로 확인함으로써 해양광물자원의 확보를 위한 보다 정확한 탐사와 연구가 가능할 것으로 기대된다.\n",
      "\n",
      "\n",
      "원문보기\n",
      "\n",
      "\n",
      "목차검색조회\n",
      "\n",
      "\n",
      "음성듣기\n",
      "\n",
      "\n",
      "This study presents three suggestions for future development of an international instrument based on the legal issues mentioned above and current discussions. First, the establishment of legal status of the biological resources of the Area. For the purpose of forming a new treaty, it is necessary to adopt the principle of ‘Common Heritage of Mankind' to the biological resources of the Area. And the legal status of High Seas on the marine genetic resources also requires a modification. Second, a clear range setting for Bioprospecting is necessary. As Bioprospecting can not be included in the current Marine Scientific Research system, it is necessary to establish clear standards and to set the criteria for classification with Marine Scientific Research. The last is a revision of the Bilateral Approach based on the State's sovereign rights. The current regime of genetic resources is centered on the Bilateral Approach based on the State's sovereign rights, but it is not appropriate system for the areas beyond national jurisdiction and necessary to consider the Multilateral System.c resources takes a Bilateral Approach based on the State's sovereign rights. Therefore, due to the nature of the areas beyond national jurisdiction where the jurisdiction of a particular country does not exist, some revisions to this current regime will be necessary.orms applicable to marine genetic resources. And in case of the Convention on Biological Diversity and the Nagoya Protocol, which regulate the entire genetic resources, their scope of application does not reach the areas beyond national jurisdiction. In addition, since High Seas Regime and the Area Regime are based on two incompatible principles of 'Freedom of the High Seas' and 'Common Heritage of Mankind' according to the Convention on the Law of the Sea, it is also confusing to apply the current system to marine genetic resources.\n",
      "\n",
      "\n",
      "원문보기\n",
      "\n",
      "\n",
      "목차검색조회\n",
      "\n",
      "\n",
      "9   韓·中의 海洋觀光資源 開發에 관한 연구 : 釜山 靑島를 中心으로  왕염 동신대학교 대학원 2010 국내석사  RANK : 13634429    원문보기 목차검색조회  음성듣기               국문요약최근 몇 년 동안에 한·중 양국의 정치, 경제, 사회, 문화 등 각 영역에서의 왕래가 더욱 밀접해졌다. 양국은 관광사업 중에서 협력도 점차 빈번해지고 있으며, 이에 따를 양국 국민의 우호 증진과 문화전파의 효과도 크게 나타나고 있다. 한·중 해양관광시장은 광범위하여 자원도 매우 풍부하여 발전 잠재력이 거대하다. 부산은 한국의 두 번째 순위인 도시이며 최대의 국제항구도시이며, 수많은 해양관광자원을 가지고 있으며 한국의 해양관광산업에서 가장 성공한 도시 가운데 하나이다. 한편 중국의 동부 연해지구의 청도는 해양관광의 자원조건, 발전규모, 발전공간 등 여러 방면에서 가장 대표성이 있으며 중국 해양관광자원 개발연구의 대표적 지역이기도 하다. 부산과 청도는 해양관광산업의 발전측면에서 볼에 유사성과 차이점이 있다. 그러한 연유로 본 연구에서는 한국의 부산과 중국의 청도를 한·중 해양관광자원개발의 사례로 선택했다.부산과 청도 두 곳의 해양관광자원의 개발상황, 해양관광산업발전에서 유사점과 차이점을 비교분석했다, 한·중 양국이 해양관광자원 개발 경험, 두 도시의 서로 다른 해양관광발전의 과정을 참고로 하여 “한·중 해양관광합작시스템”의 건의를 제안하며 한·중 양국의 해양관광개발의 상호촉진, 공동발전의 목적을 시도했다.연구 내용은 다음과 같이 요약된다.1. 연구배경과 연구목적을 기술하며 한·중 해양관광개발 이론에 대하여 검토를 한다, 본 연구와 관련한 국내외 문헌을 정리하여 이를 기초로 연구의 토대호로 삼는다. 2. 해양관광개발 기초이론의 개념을 논술하며, 해양관광자원개발의 원칙을 개괄하고, 본 연구의 대책 강구를 위한 이론을 점검한다.3. 관광개발의 자원현황, 환경, 발전과정, 자원개발현황 등에 관해서 한국과 중국 양국 간 해양관광발전의 현황을 분석한다.4. 해양관광자의 행위분석에서 한·중해양관광자의 서로 다른 특성을 정리하여 그들의 관광목적, 관광행동, 이미지 등을 비교분석한다.5. 부산과 청도를 사례로 선택하여 두 도시의 관광자원, 해양관광발전우위성, 해양관광 상품 등에 대하여 연구한다. 6. 부산과 청도의 해양관광발전에 관한 문제점을 적출하며 그에 따른 해결 방안을 모색한다. 키워드: 해양관광; 자원개발; 부산해양관광; 청도해양관광\n",
      "\n",
      "\n",
      "원문보기\n",
      "\n",
      "\n",
      "목차검색조회\n",
      "\n",
      "\n",
      "음성듣기\n",
      "\n",
      "\n",
      "10   해양관광자원의 경제적 가치평가 : 중국 대련시 부가장해수욕장을 사례로  류환칭 강원대학교 2008 국내박사  RANK : 13634415    원문보기 목차검색조회  음성듣기               Duo to the demographic and climate constraint in northern china, tourists flock to the Marine tourist Resources in the summer. As a result, The tourist sites exceed the carrying capacity. There exist problems associated with natural environmental contamination and tourism management. In turn, the tourist experience and local residents' leisure are affected adversely. Eventually this becomes a barrier for sustainable development. The city Dalian in northeast China is a one case of them. Recently, in order to attack these problems mentioned above, Domestic administrations in China came to concerned about the efficiency of public resource investment. Meanwhile in order to take use of the benefit cost analysis, they have started to evaluate the public resource properties. However, the research on tourist resource, representative of outdoor recreation resource, was conducted only a few years ago. Now, it is on the introduction of relative theories and methods. As far as the real situations in China, the thesis is about the research on the Fujiazhuang beach in Dalian city, Liaoning province, China, a representative of sea leisure cities. Empirical study is described as follows: Firstly, in order to evaluate value of the tourist resource, the methods were arranged, particularly, the travel cost method was centered. Its theory, evolution process and problems on quantitative economics were studied. Secondly, as a case study of Fujiazhuang beach, Individual travel cost method was employed in the valuation. For the core variables in travel cost method, the travel distances, practical payment of travel cost, the opportunity of travel time are involved. The results coming from different models were compared. The research results are as follows. In the theoretical study, theories and methods of valuation of non-market goods are studied. Particularly, travel cost method used frequently in tourism field was centered. Its theory and evolution process, problems on quantitative economics and late research issues are studied. Then, real analysis, the individual travel cost method was employed to evaluate the value of Fujiazhuang beach. In the derivation of model, the truncation and endogenous stratification problems were considered, and distinct substitute variables of travel cost were employed.The analysis results are as follows. First, the inferring results form the modes detected the count data model-Poisson model, negative binomial model, truncated and endogenously stratified Poisson model and truncated and endogenously stratified negative binomial models used of different substitute variables of travel cost. These models are effective. Meanwhile, in the analysis results, there existed over-dispersion problem. Consequently, the negative binomial model is more reasonable than the Poisson model.Secondly, the results of variables in the models showed that the substitute variable-travel distance, transportation fee and travel opportunity have negative effects in entire models. The variable of water quality in bathing beach has positive effect on the travel demand, income and age have positive effect on the tourism, and gender variable has negative effect. Additionally, for the results of travel cost variable of substitute destination, although travel cost can be detected, it has effect on travel demand in Poisson Model and truncated and endogenously stratified Poisson Model. However, due to the over-dispersion problem in Poisson mode, it is not appropriate. As a result, the results of travel cost variable of substitute destination is not reliable. For Negative Binomial Model and the truncated and endogenously stratified negative binomial model, the travel cost variable of substitute destination has no effect.Thirdly, the valuation results of Fujiazhuang beach: the value obtained from the negative binomial mode is greater than that obtained from the Poisson modes. In the thesis, there existed over-dispersion problems in entire models using different substitute variables. Therefore it can be inferred that the negative binomial mode is more appropriate.The value obtained from the models involving truncation problem duo to field survey and endogenous stratification is greater than that obtained from the models without them. When both the Poisson model and the negative mode are involved in the truncation problem, the outcomes resulting form them are different. The economic value of Fujiazhuang beach is 28.93 Yuan (travel fee, transportation fee, and 25% of income per hour of tourists) for one person per time by the truncated and endogenously stratified negative binomial model.Lastly, observed from the analysis and valuation, there are differences on valuation of resource value applying the individual travel cost method into different models and variables. And for the individual travel cost method, not only the count data model is used, but also the methods involved the truncation problem due to field survey and endogenous stratification are used. The study indicated that the models involving the data properties are much important.This study han some limitations. First of all, opportunity cost of travel time is computed based on the income per hour. Also since usable data is not available, the number of variables are limited.In the future study, the computation of opportunity cost of travel time should be discussed in more details. Until now, in the most studied of travel cost methods, the spending cost in destination is considers as a variable cost. In the study, it was not considered. Meanwhile, the opportunity cost of stay in destination was not considered. However, many researchers think there are arguments about them. Therefore, it is necessary to take into account the spending cost and opportunity cost of stay in destination in the future research. 중국 북쪽지역은 지리적, 기후적 한계로 인해 많은 관광자가 여름 성수기 동안 해양관광자원을 지닌 도시로 집중되는 현상이 나타나고 있다. 이와 같이 관광자가 시간적, 공간적으로 집중됨에 따라 해당관광지의 수용력이 초과되어 관광지의 자연환경 오염과 관광지 관리 면에서 많은 문제들이 발생하고 있다. 이러한 문제는 관광자의 관광경험 및 지역주민의 여가생활에 부정적인 영향을 주고 있으며 관광산업의 지속적인 발전에 큰 장애요인이 되고 있다. 이는 중국의 동북쪽에 위치하고 있는 요녕성 대련시(遼寧省大連市)를 대표적 사례로 볼 수 있다.최근 중국에서는 이러한 문제의 해결을 위해 공공자원 투자의 효율성에 대한 관심이 높아지고 있으며 편익-비용분석을 적용하기 위한 공공재 성격을 지닌 재화의 가치평가에 대한 연구도 시작하였다. 그러나 관광자원을 비롯한 야외휴양자원의 이용가치 평가에 대한 연구를 시작한지 불과 몇 년밖에 되지 않아 아직까지 관련 이론과 방법론이 현재 도입단계에 있다. 중국의 실제상황을 고려해서 본 연구에서는 중국 동북쪽에 대표적인 해양휴양도시인 요녕성 대련시를 사례로 연구하였다.구체적인 연구목적은 첫째, 관광자원의 가치평가를 위한 방법론을 정리하고자 하고 특히 여행비용법(travel cost method)을 중심으로 여행비용법의 이론과 발전과정, 그리고 계량경제학적 문제와 관련된 최근의 이슈 등에 대하여 고찰한다. 둘째, 대련시의 대표적인 해수욕장인 부가장해수욕장(付家莊海水浴場)을 대상으로 개인여행비용법을 적용하여 자원의 가치를 평가하되, 여행비용법에서 가장 중요한 변수인 여행비용은 여행거리, 실제 지출한 교통비, 시간비용 등을 사용하여 여러 가지 모형을 적용해 보고 그 결과를 비교하는 것이다.구체적인 연구결과는 다음과 같다. 우선, 이론 연구부분에서는 비시장재화 가치평가에 관한 이론 및 방법을 고찰하였으며 특히 관광분야에서 많이 이용해왔던 여행비용법을 중심으로 관련 이론과 발전과정, 그리고 계량경제학적 문제와 관련된 최근의 이슈 등에 대하여 고찰하였다. 둘째, 실증분석부분에서는 개인여행비용법을 이용하여 대련시 부가장해수욕장의 가치를 추정하였다. 모형 도출 시 절단문제와 내생층화문제를 고려하였으며 여행비용변수의 여러 대리변수를 적용하였다.모형추정 결과, 여행비용의 각 대리변수를 이용한 가산자료모형인 포아송모형과 음이항모형, 그리고 내생층화된 절단 포아송모형과 음이항모형은 모두 통계적으로 유의한 것으로 검증되었다. 분석결과 가산자료모형과 내생층화된 절단모형에서 모두 과산포가 존재하는 것으로 나타나 포아송모형보다 음이항모형의 적용이 더 타당한 것으로 판단할 수 있었다.둘째, 모형에서 투입한 변수에 대한 검증결과를 보면 여행비용의 대리변수인 거리변수, 교통비용변수, 여행시간의 기회비용을 포함한 여행비용변수가 모든 모형에서 여행수요에 부(-)의 영향을 미치는 것으로 검증되었고 해수욕장의 수질 변수는 모든 모형에서 여행수요에 정(+)의 영향을 미치는 것으로 나타났다. 소득과 연령은 부가장해수욕장의 수요에 정(+)의 영향을 미치는 것으로 나타났고 성별은 부(-)의 영향을 미치는 것으로 검증되었다. 그리고 대체목적지까지 여행비용 변수에 대한 검증결과, 비록 포아송모형과 내생층화된 절단 포아송모형에서 여행수요에 유의한 영향을 미치는 것으로 검증되었으나 과산포가 존재함으로써 포아송모형이 타당하지 않기 때문에 대체목적까지의 여행비용변수에 대한 이러한 검증결과를 신뢰할 수 없으며 음이항모형과 내생층화된 절단 음이항모형에서 대체목적지까지의 여행비용변수는 여행수요에 대한 영향을 미치지 못하는 것으로 나타났다.셋째, 부가장해수욕장의 이용가치를 추정한 결과, 포아송모형보다 음이항모형으로 추정된 가치가 크고 본 연구에서 각 대리변수를 적용한 모형에서 과산포문제가 존재함으로써 음이항모형으로 추정된 가치가 더 적합한 것으로 판단할 수 있다. 또한 내생층화와 절단 두 가지 현장조사로 인해 발생한 문제를 고려한 모형으로 추정된 자원가치는 그러한 특성을 고려하지 않은 모형으로 추정된 가치보다 작게 나타났다. 또한 내생층화와 절단 두 가지 문제를 고려한 포아송모형과 음이항모형으로 추정한 결과를 비교하면 추정된 가치 간에 차이가 존재하는 것으로 나타났다. 내생층화된 절단 음이항모형을 이용한 중국 부가장해수욕장의 경제적 가치는 1인1회 방문 시(여행비용은 교통비용과 여행자 시간당 임금의 25%를 적용) 28.93YUAN으로 추정되었다.끝으로 본 연구의 분석 및 가치추정결과를 통해 개인여행비용법을 적용 시 모형 선택과 이용변수에 따라 추정된 자원가치의 차이가 존재한 것을 알 수 있었다. 또한 개인여행비용법을 적용했을 때에는 가산자료모형을 이용해야 할 뿐만 아니라 현장조사로 인해 발생한 내생층화와 절단 두 가지 문제를 고려한 분석방법을 이용해야 한다는 것을 알 수 있었다. 이러한 연구결과는 개인별여행비용법 적용 시 자료의 특성을 고려한 분석모형의 중요성을 시사해 준다.본 연구가 갖는 한계점은 첫째, 본 연구에서는 여행시간의 기회비용을 시간당 임금률을 바탕으로 추정하였으며 여행시간의 기회비용측정에 대한 상세한 논의를 진행하지 못한 점이다. 둘째, 자료 구득의 어려움으로 인하여 다양한 변수를 고려하지 못한 것이다.향후 연구에서는 여행시간의 기회비용 측정에 대해 보다 더 상세한 연구가 필요하고 여행비용의 영향 변수에 대한 연구도 필요하다. 뿐만 아니라 지금까지의 여행비용법을 이용한 연구에서 목적지에서 지출한 비용은 가변비용으로 인식되어 모형에서 고려하지 않았으며 이에 따라 목적지에서 체재시간의 기회비용도 고려하지 않았다. 그러나 이러한 부분에 대한 논의할 여지가 있다고 생각한다. 따라서 후속연구에서는 목적지에서의 지출비용과 체재시간의 기회비용을 고려한 연구를 시도할 필요가 있다고 생각한다.\n",
      "\n",
      "\n",
      "원문보기\n",
      "\n",
      "\n",
      "목차검색조회\n",
      "\n",
      "\n",
      "음성듣기\n",
      "\n",
      "\n"
     ]
    },
    {
     "name": "stdout",
     "output_type": "stream",
     "text": [
      "결과를 저장할 파일명을 쓰세요(예: c:\\temp\\riss.txt): c:\\temp\\riss.txt\n",
      "요청하신 데이터 수집 작업이 정상적으로 완료되었습니다\n",
      "수집된 결과는 c:\\temp\\riss.txt 에 저장되었습니다\n"
     ]
    }
   ],
   "source": [
    "# riss.kr 에서 특정 키워드로 논문 / 학술 자료 검색하기\n",
    "\n",
    "# Step 1. 필요한 모듈을 로딩합니다\n",
    "from selenium import webdriver\n",
    "import time\n",
    "\n",
    "# Step 2. 사용자에게 검색 관련 정보들을 입력 받습니다.\n",
    "print(\"=\" *100)\n",
    "print(\" 이 크롤러는 RISS 사이트의 논문 및 학술자료 수집용 웹크롤러입니다.\")\n",
    "print(\"=\" *100)\n",
    "query_txt = input('1. 수집할 자료의 키워드는 무엇입니까?(여러개일 경우 , 로 구분하여 입력): ')\n",
    "print('\\n')\n",
    "\n",
    "# Step 3. 크롭 드라이버 설정 및 웹 페이지 열기\n",
    "chrome_path = \"c:/temp/chromedriver_85/chromedriver.exe\"\n",
    "driver = webdriver.Chrome(chrome_path)\n",
    "\n",
    "url = 'http://www.riss.kr/'\n",
    "driver.get(url)\n",
    "time.sleep(2)\n",
    "\n",
    "# Step 4. 자동으로 검색어 입력 후 조회하기\n",
    "element = driver.find_element_by_id(\"query\")\n",
    "driver.find_element_by_id(\"query\").click()\n",
    "element.send_keys(query_txt)\n",
    "element.send_keys(\"\\n\")\n",
    "time.sleep(2)\n",
    "\n",
    "# Step 5. 학위 논문 선택하기\n",
    "driver.find_element_by_link_text('학위논문').click()\n",
    "time.sleep(2)\n",
    "\n",
    "# Step 6. Beautiful Soup 로 본문 내용만 추출하기\n",
    "from bs4 import BeautifulSoup\n",
    "html_1 = driver.page_source\n",
    "soup_1 = BeautifulSoup(html_1, 'html.parser')\n",
    "\n",
    "content_1 = soup_1.find('div', 'srchResultListW').find_all('li')\n",
    "for i in content_1:\n",
    "    print(i.get_text().replace(\"\\n\", \" \").strip())\n",
    "    print(\"\\n\")\n",
    "\n",
    "# Step 7. 표준 출력 방향을 바꾸어 txt 파일에 저장하기\n",
    "import sys\n",
    "f_name = input('결과를 저장할 파일명을 쓰세요(예: c:\\\\temp\\\\riss.txt): ')\n",
    "\n",
    "orig_stdout = sys.stdout\n",
    "file = open(f_name , 'a' , encoding='UTF-8')\n",
    "sys.stdout = file\n",
    "\n",
    "for i in content_1:\n",
    "    print(i.get_text().replace(\"\\n\", \"\"))\n",
    "\n",
    "file.close()\n",
    "sys.stdout = orig_stdout\n",
    "\n",
    "print('요청하신 데이터 수집 작업이 정상적으로 완료되었습니다')\n",
    "print('수집된 결과는 %s 에 저장되었습니다' %f_name)"
   ]
  },
  {
   "cell_type": "markdown",
   "metadata": {},
   "source": [
    "# 연습문제"
   ]
  },
  {
   "cell_type": "markdown",
   "metadata": {},
   "source": [
    "### 1. 네이버 사이트에서 “서진수 빅데이터” 로 검색 한 후 “뉴스” 카테고리를 선택하여 조회된 기사들을 수집하여 txt 형식으로 저장하세요(단 파일경로와 이름은 자유롭게 선택하세요)"
   ]
  },
  {
   "cell_type": "code",
   "execution_count": null,
   "metadata": {},
   "outputs": [],
   "source": []
  },
  {
   "cell_type": "markdown",
   "metadata": {},
   "source": [
    "### 2. 다음 사이트에서 “서진수 빅데이터” 로 검색 한 후 “뉴스” 카테고리를 선택하여 조회된 기사들을 수집하여 txt 형식으로 저장하세요(단 파일경로와 이름은 자유롭게 선택하세요)"
   ]
  },
  {
   "cell_type": "code",
   "execution_count": null,
   "metadata": {},
   "outputs": [],
   "source": []
  },
  {
   "cell_type": "markdown",
   "metadata": {},
   "source": [
    "### 3. 한국관광공사의 대한민국 구석구석 사이트(https://korean.visitkorea.or.kr) 에서 “여름여행” 키워드로 검색 한 후 화면 오른쪽의 “어제의 인기 검색어” 목록을 수집하여 txt 형식으로 저장하세요.(단 파일경로와 이름은 자유롭게 선택하세요)\n"
   ]
  },
  {
   "cell_type": "code",
   "execution_count": null,
   "metadata": {},
   "outputs": [],
   "source": []
  }
 ],
 "metadata": {
  "kernelspec": {
   "display_name": "Python 3",
   "language": "python",
   "name": "python3"
  },
  "language_info": {
   "codemirror_mode": {
    "name": "ipython",
    "version": 3
   },
   "file_extension": ".py",
   "mimetype": "text/x-python",
   "name": "python",
   "nbconvert_exporter": "python",
   "pygments_lexer": "ipython3",
   "version": "3.8.5"
  }
 },
 "nbformat": 4,
 "nbformat_minor": 4
}
