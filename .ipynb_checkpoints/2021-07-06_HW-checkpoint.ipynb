{
 "cells": [
  {
   "cell_type": "markdown",
   "metadata": {},
   "source": [
    "## Curve fitting using Least squares\n",
    "For the 2D points, find the 2nd-order curve using least squares \\\n",
    "y = ax^2 + bx + c\n",
    "## Sampling 6 2D points out of total 8 points\n",
    "Randomly select 6 point \\\n",
    "Twice curve fitting \\\n",
    "Compare two curves"
   ]
  },
  {
   "cell_type": "code",
   "execution_count": 24,
   "metadata": {},
   "outputs": [],
   "source": [
    "import matplotlib.pyplot as plt\n",
    "import numpy as np\n",
    "from scipy.optimize import curve_fit"
   ]
  },
  {
   "cell_type": "code",
   "execution_count": 25,
   "metadata": {},
   "outputs": [],
   "source": [
    "# y = ax^2 + bx + c\n",
    "def func(x, a, b, c):\n",
    "    return a*x**2 + b*x + c"
   ]
  },
  {
   "cell_type": "code",
   "execution_count": 26,
   "metadata": {},
   "outputs": [],
   "source": [
    "%matplotlib inline\n",
    "np.random.seed(12345)\n",
    "\n",
    "Xc = [-2.9, -2.1, -0.9, 1.1, 0.1, 1.9, 3.1, 4.0]\n",
    "Yc = [35.4, 19.7, 5.7, 2.1, 1.2, 8.7, 25.7, 41.5]\n",
    "\n",
    "Xsquare = np.square(Xc)"
   ]
  },
  {
   "cell_type": "code",
   "execution_count": 27,
   "metadata": {},
   "outputs": [
    {
     "data": {
      "text/plain": [
       "[[8.41, -2.9, 1],\n",
       " [4.41, -2.1, 1],\n",
       " [0.81, -0.9, 1],\n",
       " [1.2100000000000002, 1.1, 1],\n",
       " [0.010000000000000002, 0.1, 1],\n",
       " [3.61, 1.9, 1],\n",
       " [9.610000000000001, 3.1, 1],\n",
       " [16.0, 4.0, 1]]"
      ]
     },
     "execution_count": 27,
     "metadata": {},
     "output_type": "execute_result"
    }
   ],
   "source": [
    "tmp = []\n",
    "for i in range(8):\n",
    "    tmp.append([Xsquare[i], Xc[i], 1])\n",
    "tmp"
   ]
  },
  {
   "cell_type": "code",
   "execution_count": 28,
   "metadata": {},
   "outputs": [
    {
     "data": {
      "text/plain": [
       "(matrix([[ 8.41e+00, -2.90e+00,  1.00e+00],\n",
       "         [ 4.41e+00, -2.10e+00,  1.00e+00],\n",
       "         [ 8.10e-01, -9.00e-01,  1.00e+00],\n",
       "         [ 1.21e+00,  1.10e+00,  1.00e+00],\n",
       "         [ 1.00e-02,  1.00e-01,  1.00e+00],\n",
       "         [ 3.61e+00,  1.90e+00,  1.00e+00],\n",
       "         [ 9.61e+00,  3.10e+00,  1.00e+00],\n",
       "         [ 1.60e+01,  4.00e+00,  1.00e+00]]),\n",
       " matrix([[35.4],\n",
       "         [19.7],\n",
       "         [ 5.7],\n",
       "         [ 2.1],\n",
       "         [ 1.2],\n",
       "         [ 8.7],\n",
       "         [25.7],\n",
       "         [41.5]]))"
      ]
     },
     "execution_count": 28,
     "metadata": {},
     "output_type": "execute_result"
    }
   ],
   "source": [
    "X = np.mat(tmp)\n",
    "Y = np.mat(Yc).T\n",
    "X, Y"
   ]
  },
  {
   "cell_type": "code",
   "execution_count": 29,
   "metadata": {},
   "outputs": [
    {
     "data": {
      "text/plain": [
       "matrix([[ 3.16052477],\n",
       "        [-2.36059821],\n",
       "        [ 1.35828072]])"
      ]
     },
     "execution_count": 29,
     "metadata": {},
     "output_type": "execute_result"
    }
   ],
   "source": [
    "XTX = np.linalg.inv(np.matmul(X.T,X))\n",
    "b = np.matmul(XTX, np.matmul(X.T,Y))\n",
    "b"
   ]
  },
  {
   "cell_type": "code",
   "execution_count": 30,
   "metadata": {},
   "outputs": [
    {
     "data": {
      "text/plain": [
       "(array([ 4. ,  1.1,  0.1, -2.9, -2.1,  3.1]),\n",
       " [41.5, 2.1, 1.2, 35.4, 19.7, 25.7])"
      ]
     },
     "execution_count": 30,
     "metadata": {},
     "output_type": "execute_result"
    }
   ],
   "source": [
    "X_sample = np.random.choice(Xc, 6, replace = False)\n",
    "sample_index = [Xc.index(z) for z in X_sample]\n",
    "Y_sample = [Yc[i] for i in sample_index]\n",
    "\n",
    "X_sample, Y_sample"
   ]
  },
  {
   "cell_type": "code",
   "execution_count": 31,
   "metadata": {},
   "outputs": [
    {
     "data": {
      "text/plain": [
       "[[16.0, 4.0, 1],\n",
       " [1.2100000000000002, 1.1, 1],\n",
       " [0.010000000000000002, 0.1, 1],\n",
       " [8.41, -2.9, 1],\n",
       " [4.41, -2.1, 1],\n",
       " [9.610000000000001, 3.1, 1]]"
      ]
     },
     "execution_count": 31,
     "metadata": {},
     "output_type": "execute_result"
    }
   ],
   "source": [
    "X_sample_square = np.square(X_sample)\n",
    "\n",
    "tmp = []\n",
    "for i in range(6):\n",
    "    tmp.append([X_sample_square[i], X_sample[i], 1])\n",
    "tmp"
   ]
  },
  {
   "cell_type": "code",
   "execution_count": 32,
   "metadata": {},
   "outputs": [
    {
     "data": {
      "text/plain": [
       "(matrix([[ 1.60e+01,  4.00e+00,  1.00e+00],\n",
       "         [ 1.21e+00,  1.10e+00,  1.00e+00],\n",
       "         [ 1.00e-02,  1.00e-01,  1.00e+00],\n",
       "         [ 8.41e+00, -2.90e+00,  1.00e+00],\n",
       "         [ 4.41e+00, -2.10e+00,  1.00e+00],\n",
       "         [ 9.61e+00,  3.10e+00,  1.00e+00]]),\n",
       " matrix([[41.5],\n",
       "         [ 2.1],\n",
       "         [ 1.2],\n",
       "         [35.4],\n",
       "         [19.7],\n",
       "         [25.7]]))"
      ]
     },
     "execution_count": 32,
     "metadata": {},
     "output_type": "execute_result"
    }
   ],
   "source": [
    "X = np.mat(tmp)\n",
    "Y = np.mat(Y_sample).T\n",
    "X, Y"
   ]
  },
  {
   "cell_type": "code",
   "execution_count": 33,
   "metadata": {},
   "outputs": [
    {
     "data": {
      "text/plain": [
       "matrix([[ 3.16327676],\n",
       "        [-2.39151458],\n",
       "        [ 1.3446791 ]])"
      ]
     },
     "execution_count": 33,
     "metadata": {},
     "output_type": "execute_result"
    }
   ],
   "source": [
    "XTX = np.linalg.inv(np.matmul(X.T,X))\n",
    "b2 = np.matmul(XTX, np.matmul(X.T,Y))\n",
    "b2"
   ]
  },
  {
   "cell_type": "code",
   "execution_count": 34,
   "metadata": {},
   "outputs": [
    {
     "data": {
      "text/plain": [
       "([[3.1605247687724383], [-2.3605982079786845], [1.3582807168133755]],\n",
       " [[3.1632767597643063], [-2.391514584760966], [1.3446791008427397]])"
      ]
     },
     "execution_count": 34,
     "metadata": {},
     "output_type": "execute_result"
    }
   ],
   "source": [
    "b = b.tolist()\n",
    "b2 = b2.tolist()\n",
    "\n",
    "b,b2"
   ]
  },
  {
   "cell_type": "code",
   "execution_count": 35,
   "metadata": {},
   "outputs": [
    {
     "data": {
      "text/plain": [
       "<matplotlib.collections.PathCollection at 0x27b45749100>"
      ]
     },
     "execution_count": 35,
     "metadata": {},
     "output_type": "execute_result"
    },
    {
     "data": {
      "image/png": "[encoded data removed]",
      "text/plain": [
       "<Figure size 432x288 with 1 Axes>"
      ]
     },
     "metadata": {
      "needs_background": "light"
     },
     "output_type": "display_data"
    }
   ],
   "source": [
    "x1 = np.linspace(min(Xc)-1, max(Xc) + 1, 100)     # [0 1 2 3 4]\n",
    "y1 =  b[0]*x1**2 + b[1]*x1 + b[2]\n",
    "y2 =  b2[0]*x1**2 + b2[1]*x1 + b2[2]\n",
    "\n",
    "plt.plot(x1, y1)\n",
    "plt.plot(x1, y2)\n",
    "plt.scatter(Xc, Yc)"
   ]
  },
  {
   "cell_type": "code",
   "execution_count": 36,
   "metadata": {},
   "outputs": [
    {
     "data": {
      "text/plain": [
       "[<matplotlib.lines.Line2D at 0x27b45798fa0>]"
      ]
     },
     "execution_count": 36,
     "metadata": {},
     "output_type": "execute_result"
    },
    {
     "data": {
      "image/png": "[encoded data removed]",
      "text/plain": [
       "<Figure size 432x288 with 1 Axes>"
      ]
     },
     "metadata": {
      "needs_background": "light"
     },
     "output_type": "display_data"
    }
   ],
   "source": [
    "x1 = np.linspace(0, 1, 100)     # [0 1 2 3 4]\n",
    "y1 =  b[0]*x1**2 + b[1]*x1 + b[2]\n",
    "y2 =  b2[0]*x1**2 + b2[1]*x1 + b2[2]\n",
    "\n",
    "plt.plot(x1, y1)\n",
    "plt.plot(x1, y2)"
   ]
  }
 ],
 "metadata": {
  "kernelspec": {
   "display_name": "Python 3",
   "language": "python",
   "name": "python3"
  },
  "language_info": {
   "codemirror_mode": {
    "name": "ipython",
    "version": 3
   },
   "file_extension": ".py",
   "mimetype": "text/x-python",
   "name": "python",
   "nbconvert_exporter": "python",
   "pygments_lexer": "ipython3",
   "version": "3.8.5"
  }
 },
 "nbformat": 4,
 "nbformat_minor": 4
}
