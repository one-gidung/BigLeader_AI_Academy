{
 "cells": [
  {
   "cell_type": "markdown",
   "metadata": {},
   "source": [
    "code창을 markdown으로 바꾸는 단축키: esc+m\\\n",
    "python은 객체지향 언어\\\n",
    "object.하고 'tap'키를 누르면 메서드 목록이 뜸"
   ]
  },
  {
   "cell_type": "markdown",
   "metadata": {},
   "source": [
    "# 한 개\n",
    "## 두 개\n",
    "### 세 개"
   ]
  },
  {
   "cell_type": "markdown",
   "metadata": {},
   "source": [
    "커맨드 모드(활성화) 끄기: esc -> 편집 모드(비활성화)"
   ]
  },
  {
   "cell_type": "markdown",
   "metadata": {},
   "source": [
    "문자열\\\n",
    "C: ', \" 구분\\\n",
    "JAVA: \" 큰 따옴표만\\\n",
    "python: ', \" 둘 다 사용"
   ]
  },
  {
   "cell_type": "code",
   "execution_count": 1,
   "metadata": {},
   "outputs": [],
   "source": [
    "name = 'hong'\n",
    "age = 24"
   ]
  },
  {
   "cell_type": "code",
   "execution_count": 14,
   "metadata": {},
   "outputs": [
    {
     "name": "stdout",
     "output_type": "stream",
     "text": [
      "name is hong age is 24\n",
      "\n",
      "name is hong age is 24\n",
      "name is hong age is 24\n",
      "name is hong age is 24\n"
     ]
    }
   ],
   "source": [
    "# 문자열 포매팅\n",
    "# C언어 스타일\n",
    "print('name is %s age is %d\\n' %(name, age))\n",
    "print('name is {} age is {}' .format(name, age))\n",
    "print('name is %s age is %s' %(name, age))         # 숫자를 string으로 받아도 에러가 안 남\n",
    "\n",
    "# 파이썬\n",
    "print(f'name is {name} age is {age}')"
   ]
  },
  {
   "cell_type": "code",
   "execution_count": 15,
   "metadata": {},
   "outputs": [],
   "source": [
    "str1 = 'python is good ranguage!'"
   ]
  },
  {
   "cell_type": "code",
   "execution_count": 18,
   "metadata": {},
   "outputs": [
    {
     "data": {
      "text/plain": [
       "10"
      ]
     },
     "execution_count": 18,
     "metadata": {},
     "output_type": "execute_result"
    }
   ],
   "source": [
    "str1.find('g') # 모든 문자를 찾지 않고 첫번째 발견한 문자열의 인덱스를 반환"
   ]
  },
  {
   "cell_type": "code",
   "execution_count": 19,
   "metadata": {},
   "outputs": [
    {
     "data": {
      "text/plain": [
       "10"
      ]
     },
     "execution_count": 19,
     "metadata": {},
     "output_type": "execute_result"
    }
   ],
   "source": [
    "str1.index('g')"
   ]
  },
  {
   "cell_type": "code",
   "execution_count": 20,
   "metadata": {},
   "outputs": [
    {
     "data": {
      "text/plain": [
       "-1"
      ]
     },
     "execution_count": 20,
     "metadata": {},
     "output_type": "execute_result"
    }
   ],
   "source": [
    "str1.find('f')   # 없는 값을 찾으면 -1 반환\n",
    "# str1.index('f')  에러가 난다"
   ]
  },
  {
   "cell_type": "code",
   "execution_count": 21,
   "metadata": {},
   "outputs": [
    {
     "data": {
      "text/plain": [
       "['Life', 'is', 'too', 'short']"
      ]
     },
     "execution_count": 21,
     "metadata": {},
     "output_type": "execute_result"
    }
   ],
   "source": [
    "# split()\n",
    "# 구분자로 문자열을 분리, 구분자는 괄호 안에 명시\n",
    "# default는 공백\n",
    "# split한 문자열을 리스트로 반환\n",
    "\n",
    "a = \"Life is too short\"\n",
    "a.split()"
   ]
  },
  {
   "cell_type": "code",
   "execution_count": 24,
   "metadata": {},
   "outputs": [
    {
     "name": "stdout",
     "output_type": "stream",
     "text": [
      "my name is hong\n",
      "my name is hong\n",
      "my age is 24\n"
     ]
    }
   ],
   "source": [
    "print('my', 'name', 'is', 'hong')   # 콤마로 구분된 문자열 사이 공백이 넣어져 출력됨\n",
    "print('my', 'name', 'is', name)\n",
    "print('my', 'age', 'is', age)"
   ]
  },
  {
   "cell_type": "code",
   "execution_count": 26,
   "metadata": {},
   "outputs": [
    {
     "name": "stdout",
     "output_type": "stream",
     "text": [
      "1234\n"
     ]
    }
   ],
   "source": [
    "a = input() # string으로 됨"
   ]
  },
  {
   "cell_type": "code",
   "execution_count": 27,
   "metadata": {},
   "outputs": [
    {
     "data": {
      "text/plain": [
       "str"
      ]
     },
     "execution_count": 27,
     "metadata": {},
     "output_type": "execute_result"
    }
   ],
   "source": [
    "type(a)"
   ]
  },
  {
   "cell_type": "code",
   "execution_count": 36,
   "metadata": {},
   "outputs": [
    {
     "name": "stdout",
     "output_type": "stream",
     "text": [
      "숫자를 입력: 1\n"
     ]
    }
   ],
   "source": [
    "b = int(input('숫자를 입력: '))   # 숫자 외 입력 시 에러"
   ]
  },
  {
   "cell_type": "code",
   "execution_count": 38,
   "metadata": {
    "scrolled": true
   },
   "outputs": [
    {
     "data": {
      "text/plain": [
       "int"
      ]
     },
     "execution_count": 38,
     "metadata": {},
     "output_type": "execute_result"
    }
   ],
   "source": [
    "type(b)"
   ]
  },
  {
   "cell_type": "code",
   "execution_count": 44,
   "metadata": {},
   "outputs": [
    {
     "name": "stdout",
     "output_type": "stream",
     "text": [
      "이름과 주소 입력: d d\n"
     ]
    }
   ],
   "source": [
    "name, address = input('이름과 주소 입력: ').split()   #  공백으로 구분"
   ]
  },
  {
   "cell_type": "code",
   "execution_count": 45,
   "metadata": {},
   "outputs": [
    {
     "name": "stdout",
     "output_type": "stream",
     "text": [
      "d d\n"
     ]
    }
   ],
   "source": [
    "print(name, address)"
   ]
  },
  {
   "cell_type": "code",
   "execution_count": 4,
   "metadata": {
    "scrolled": false
   },
   "outputs": [
    {
     "name": "stdout",
     "output_type": "stream",
     "text": [
      "나이, 학년: 3 3\n",
      "3 3\n"
     ]
    }
   ],
   "source": [
    "# input으로 int를 여러 개 받는 방법: map\n",
    "# age, grade = int(input('나이, 학년: ').split())    에러남\n",
    "age, grade = map(int, input('나이, 학년: ').split())\n",
    "print(age, grade)"
   ]
  },
  {
   "cell_type": "code",
   "execution_count": 5,
   "metadata": {
    "scrolled": true
   },
   "outputs": [
    {
     "data": {
      "text/plain": [
       "int"
      ]
     },
     "execution_count": 5,
     "metadata": {},
     "output_type": "execute_result"
    }
   ],
   "source": [
    "type(age)"
   ]
  },
  {
   "cell_type": "code",
   "execution_count": 1,
   "metadata": {},
   "outputs": [
    {
     "name": "stdout",
     "output_type": "stream",
     "text": [
      "3\n"
     ]
    }
   ],
   "source": [
    "age = int(input())"
   ]
  },
  {
   "cell_type": "markdown",
   "metadata": {},
   "source": [
    "input()은 항상 받은 string으로 문자열을 받음 \\\n",
    "그래서 형을 바꾸고 싶을 때는 한 개면 그냥 자료형쓰고 괄호로 씌워주면 됨 \\\n",
    "그러나 두 개 이상일 때는 map(자료형, input(문자열).split('기준문자열')) 이런 식으로 해줘야 함"
   ]
  },
  {
   "cell_type": "code",
   "execution_count": 6,
   "metadata": {},
   "outputs": [
    {
     "name": "stdout",
     "output_type": "stream",
     "text": [
      "나이, 학년:  3 3\n"
     ]
    }
   ],
   "source": [
    "age, grade = input('나이, 학년: ').split()"
   ]
  },
  {
   "cell_type": "code",
   "execution_count": 7,
   "metadata": {},
   "outputs": [
    {
     "data": {
      "text/plain": [
       "str"
      ]
     },
     "execution_count": 7,
     "metadata": {},
     "output_type": "execute_result"
    }
   ],
   "source": [
    "type(age)"
   ]
  },
  {
   "cell_type": "code",
   "execution_count": 8,
   "metadata": {},
   "outputs": [
    {
     "name": "stdout",
     "output_type": "stream",
     "text": [
      "3\n"
     ]
    }
   ],
   "source": [
    "age = int(input())"
   ]
  },
  {
   "cell_type": "code",
   "execution_count": 9,
   "metadata": {},
   "outputs": [
    {
     "data": {
      "text/plain": [
       "int"
      ]
     },
     "execution_count": 9,
     "metadata": {},
     "output_type": "execute_result"
    }
   ],
   "source": [
    "type(age)"
   ]
  },
  {
   "cell_type": "code",
   "execution_count": null,
   "metadata": {},
   "outputs": [],
   "source": []
  }
 ],
 "metadata": {
  "kernelspec": {
   "display_name": "Python 3",
   "language": "python",
   "name": "python3"
  },
  "language_info": {
   "codemirror_mode": {
    "name": "ipython",
    "version": 3
   },
   "file_extension": ".py",
   "mimetype": "text/x-python",
   "name": "python",
   "nbconvert_exporter": "python",
   "pygments_lexer": "ipython3",
   "version": "3.8.5"
  }
 },
 "nbformat": 4,
 "nbformat_minor": 4
}
