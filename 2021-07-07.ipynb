{
 "cells": [
  {
   "cell_type": "code",
   "execution_count": 9,
   "metadata": {},
   "outputs": [],
   "source": [
    "import cv2\n",
    "import numpy as np\n",
    "import timeit"
   ]
  },
  {
   "cell_type": "code",
   "execution_count": 11,
   "metadata": {},
   "outputs": [],
   "source": [
    "# 가중치 파일 경로\n",
    "cascade_filename = 'data/haarcascade_fontalface_alt.xml'\n",
    "# 모델 불러오기\n",
    "cascade = cv2.CascadeClassifier(cascade_filename)"
   ]
  },
  {
   "cell_type": "code",
   "execution_count": 12,
   "metadata": {},
   "outputs": [],
   "source": [
    "# 영상 파일\n",
    "cam = cv2.VideoCapture('data/sample.mp4')\n",
    "# 사진 파일\n",
    "img = cv2.imread('data/sample.jpg')\n",
    "\n",
    "# 영상 재생\n",
    "def videoDetector(cam, cascade):\n",
    "    \n",
    "    while True:\n",
    "        \n",
    "        # 캡처 이미지 불러오기\n",
    "        ret, img = cam.read()\n",
    "        # 영상 압축\n",
    "        img = cv2.resize(img, dsize=None, fx=0.75, fy=0.75)\n",
    "        # 그레이 스케일 변환\n",
    "        gray = cv2.cvtColor(img, cv2.COLOR_BGR2GRAY)\n",
    "        \n",
    "        \n",
    "# 사진 출력\n",
    "def imgDetector(img, cascade):\n",
    "    \n",
    "    img = cv2.resize(img, dsize=None, fx=0.5, fy=0.5)\n",
    "    gray = cv2.cvtColor(img, cv2.COLOR_BGR2GRAY)"
   ]
  },
  {
   "cell_type": "code",
   "execution_count": 13,
   "metadata": {},
   "outputs": [
    {
     "ename": "NameError",
     "evalue": "name 'grey' is not defined",
     "output_type": "error",
     "traceback": [
      "\u001b[1;31m---------------------------------------------------------------------------\u001b[0m",
      "\u001b[1;31mNameError\u001b[0m                                 Traceback (most recent call last)",
      "\u001b[1;32m<ipython-input-13-d8c388102305>\u001b[0m in \u001b[0;36m<module>\u001b[1;34m\u001b[0m\n\u001b[0;32m      1\u001b[0m \u001b[1;31m# cascade 얼굴 탐지 알고리즘\u001b[0m\u001b[1;33m\u001b[0m\u001b[1;33m\u001b[0m\u001b[1;33m\u001b[0m\u001b[0m\n\u001b[1;32m----> 2\u001b[1;33m results = cascade.detectMultiScale(grey,           # 입력 이미지\n\u001b[0m\u001b[0;32m      3\u001b[0m                                   \u001b[0mscaleFactor\u001b[0m\u001b[1;33m=\u001b[0m\u001b[1;36m1.5\u001b[0m\u001b[1;33m,\u001b[0m \u001b[1;31m# 이미지 피라미드 스케일 factor\u001b[0m\u001b[1;33m\u001b[0m\u001b[1;33m\u001b[0m\u001b[0m\n\u001b[0;32m      4\u001b[0m                                   \u001b[0mminNeighbors\u001b[0m\u001b[1;33m=\u001b[0m\u001b[1;36m5\u001b[0m\u001b[1;33m,\u001b[0m  \u001b[1;31m# 인접 객체 최소 거리 픽셀\u001b[0m\u001b[1;33m\u001b[0m\u001b[1;33m\u001b[0m\u001b[0m\n\u001b[0;32m      5\u001b[0m                                   \u001b[0mminSize\u001b[0m\u001b[1;33m=\u001b[0m\u001b[1;33m(\u001b[0m\u001b[1;36m20\u001b[0m\u001b[1;33m,\u001b[0m \u001b[1;36m20\u001b[0m\u001b[1;33m)\u001b[0m \u001b[1;31m# 탐지 객체 최소 크기\u001b[0m\u001b[1;33m\u001b[0m\u001b[1;33m\u001b[0m\u001b[0m\n",
      "\u001b[1;31mNameError\u001b[0m: name 'grey' is not defined"
     ]
    }
   ],
   "source": [
    "# cascade 얼굴 탐지 알고리즘\n",
    "results = cascade.detectMultiScale(gray,           # 입력 이미지\n",
    "                                  scaleFactor=1.5, # 이미지 피라미드 스케일 factor\n",
    "                                  minNeighbors=5,  # 인접 객체 최소 거리 픽셀\n",
    "                                  minSize=(20, 20) # 탐지 객체 최소 크기\n",
    "                                  )\n",
    "# 결과값 = 탐지된 객체의 경계상자 list\n",
    "for box in results:\n",
    "    # 좌표 추출\n",
    "    x, y, w, h = box\n",
    "    # 경계 상자 그리기\n",
    "    cv2.rectangle(img, (x, y), (x+w, y+h), (255, 255, 255), thickness=2)"
   ]
  },
  {
   "cell_type": "code",
   "execution_count": 8,
   "metadata": {},
   "outputs": [
    {
     "ename": "error",
     "evalue": "OpenCV(4.5.2) C:\\Users\\runneradmin\\AppData\\Local\\Temp\\pip-req-build-_8k9tw8n\\opencv\\modules\\imgproc\\src\\resize.cpp:4051: error: (-215:Assertion failed) !ssize.empty() in function 'cv::resize'\n",
     "output_type": "error",
     "traceback": [
      "\u001b[1;31m---------------------------------------------------------------------------\u001b[0m",
      "\u001b[1;31merror\u001b[0m                                     Traceback (most recent call last)",
      "\u001b[1;32m<ipython-input-8-25741589336f>\u001b[0m in \u001b[0;36m<module>\u001b[1;34m\u001b[0m\n\u001b[0;32m      1\u001b[0m \u001b[1;31m# 영상 탐지기\u001b[0m\u001b[1;33m\u001b[0m\u001b[1;33m\u001b[0m\u001b[1;33m\u001b[0m\u001b[0m\n\u001b[1;32m----> 2\u001b[1;33m \u001b[0mvideoDetector\u001b[0m\u001b[1;33m(\u001b[0m\u001b[0mcam\u001b[0m\u001b[1;33m,\u001b[0m \u001b[0mcascade\u001b[0m\u001b[1;33m)\u001b[0m\u001b[1;33m\u001b[0m\u001b[1;33m\u001b[0m\u001b[0m\n\u001b[0m\u001b[0;32m      3\u001b[0m \u001b[1;31m# 사진 탐지기\u001b[0m\u001b[1;33m\u001b[0m\u001b[1;33m\u001b[0m\u001b[1;33m\u001b[0m\u001b[0m\n\u001b[0;32m      4\u001b[0m \u001b[1;31m# imgDetector(cam, cascade)\u001b[0m\u001b[1;33m\u001b[0m\u001b[1;33m\u001b[0m\u001b[1;33m\u001b[0m\u001b[0m\n",
      "\u001b[1;32m<ipython-input-7-13409c4ccaeb>\u001b[0m in \u001b[0;36mvideoDetector\u001b[1;34m(cam, cascade)\u001b[0m\n\u001b[0;32m     22\u001b[0m         \u001b[0mret\u001b[0m\u001b[1;33m,\u001b[0m\u001b[0mimg\u001b[0m \u001b[1;33m=\u001b[0m \u001b[0mcam\u001b[0m\u001b[1;33m.\u001b[0m\u001b[0mread\u001b[0m\u001b[1;33m(\u001b[0m\u001b[1;33m)\u001b[0m\u001b[1;33m\u001b[0m\u001b[1;33m\u001b[0m\u001b[0m\n\u001b[0;32m     23\u001b[0m         \u001b[1;31m# 영상 압축\u001b[0m\u001b[1;33m\u001b[0m\u001b[1;33m\u001b[0m\u001b[1;33m\u001b[0m\u001b[0m\n\u001b[1;32m---> 24\u001b[1;33m         \u001b[0mimg\u001b[0m \u001b[1;33m=\u001b[0m \u001b[0mcv2\u001b[0m\u001b[1;33m.\u001b[0m\u001b[0mresize\u001b[0m\u001b[1;33m(\u001b[0m\u001b[0mimg\u001b[0m\u001b[1;33m,\u001b[0m\u001b[0mdsize\u001b[0m\u001b[1;33m=\u001b[0m\u001b[1;32mNone\u001b[0m\u001b[1;33m,\u001b[0m\u001b[0mfx\u001b[0m\u001b[1;33m=\u001b[0m\u001b[1;36m1.0\u001b[0m\u001b[1;33m,\u001b[0m\u001b[0mfy\u001b[0m\u001b[1;33m=\u001b[0m\u001b[1;36m1.0\u001b[0m\u001b[1;33m)\u001b[0m\u001b[1;33m\u001b[0m\u001b[1;33m\u001b[0m\u001b[0m\n\u001b[0m\u001b[0;32m     25\u001b[0m         \u001b[1;31m# 그레이 스케일 변환\u001b[0m\u001b[1;33m\u001b[0m\u001b[1;33m\u001b[0m\u001b[1;33m\u001b[0m\u001b[0m\n\u001b[0;32m     26\u001b[0m         \u001b[0mgray\u001b[0m \u001b[1;33m=\u001b[0m \u001b[0mcv2\u001b[0m\u001b[1;33m.\u001b[0m\u001b[0mcvtColor\u001b[0m\u001b[1;33m(\u001b[0m\u001b[0mimg\u001b[0m\u001b[1;33m,\u001b[0m \u001b[0mcv2\u001b[0m\u001b[1;33m.\u001b[0m\u001b[0mCOLOR_BGR2GRAY\u001b[0m\u001b[1;33m)\u001b[0m\u001b[1;33m\u001b[0m\u001b[1;33m\u001b[0m\u001b[0m\n",
      "\u001b[1;31merror\u001b[0m: OpenCV(4.5.2) C:\\Users\\runneradmin\\AppData\\Local\\Temp\\pip-req-build-_8k9tw8n\\opencv\\modules\\imgproc\\src\\resize.cpp:4051: error: (-215:Assertion failed) !ssize.empty() in function 'cv::resize'\n"
     ]
    }
   ],
   "source": [
    "# 영상 탐지기\n",
    "videoDetector(cam, cascade)\n",
    "# 사진 탐지기\n",
    "# imgDetector(cam, cascade)"
   ]
  },
  {
   "cell_type": "code",
   "execution_count": 10,
   "metadata": {},
   "outputs": [
    {
     "ename": "error",
     "evalue": "OpenCV(4.5.2) C:\\Users\\runneradmin\\AppData\\Local\\Temp\\pip-req-build-_8k9tw8n\\opencv\\modules\\imgproc\\src\\resize.cpp:4051: error: (-215:Assertion failed) !ssize.empty() in function 'cv::resize'\n",
     "output_type": "error",
     "traceback": [
      "\u001b[1;31m---------------------------------------------------------------------------\u001b[0m",
      "\u001b[1;31merror\u001b[0m                                     Traceback (most recent call last)",
      "\u001b[1;32m<ipython-input-10-d4fe2e923714>\u001b[0m in \u001b[0;36m<module>\u001b[1;34m\u001b[0m\n\u001b[0;32m     76\u001b[0m \u001b[1;33m\u001b[0m\u001b[0m\n\u001b[0;32m     77\u001b[0m \u001b[1;31m# 영상 탐지기\u001b[0m\u001b[1;33m\u001b[0m\u001b[1;33m\u001b[0m\u001b[1;33m\u001b[0m\u001b[0m\n\u001b[1;32m---> 78\u001b[1;33m \u001b[0mvideoDetector\u001b[0m\u001b[1;33m(\u001b[0m\u001b[0mcam\u001b[0m\u001b[1;33m,\u001b[0m\u001b[0mcascade\u001b[0m\u001b[1;33m)\u001b[0m\u001b[1;33m\u001b[0m\u001b[1;33m\u001b[0m\u001b[0m\n\u001b[0m\u001b[0;32m     79\u001b[0m \u001b[1;31m# 사진 탐지기\u001b[0m\u001b[1;33m\u001b[0m\u001b[1;33m\u001b[0m\u001b[1;33m\u001b[0m\u001b[0m\n\u001b[0;32m     80\u001b[0m \u001b[1;31m# imgDetector(cam,cascade)\u001b[0m\u001b[1;33m\u001b[0m\u001b[1;33m\u001b[0m\u001b[1;33m\u001b[0m\u001b[0m\n",
      "\u001b[1;32m<ipython-input-10-d4fe2e923714>\u001b[0m in \u001b[0;36mvideoDetector\u001b[1;34m(cam, cascade)\u001b[0m\n\u001b[0;32m     11\u001b[0m         \u001b[0mret\u001b[0m\u001b[1;33m,\u001b[0m\u001b[0mimg\u001b[0m \u001b[1;33m=\u001b[0m \u001b[0mcam\u001b[0m\u001b[1;33m.\u001b[0m\u001b[0mread\u001b[0m\u001b[1;33m(\u001b[0m\u001b[1;33m)\u001b[0m\u001b[1;33m\u001b[0m\u001b[1;33m\u001b[0m\u001b[0m\n\u001b[0;32m     12\u001b[0m         \u001b[1;31m# 영상 압축\u001b[0m\u001b[1;33m\u001b[0m\u001b[1;33m\u001b[0m\u001b[1;33m\u001b[0m\u001b[0m\n\u001b[1;32m---> 13\u001b[1;33m         \u001b[0mimg\u001b[0m \u001b[1;33m=\u001b[0m \u001b[0mcv2\u001b[0m\u001b[1;33m.\u001b[0m\u001b[0mresize\u001b[0m\u001b[1;33m(\u001b[0m\u001b[0mimg\u001b[0m\u001b[1;33m,\u001b[0m\u001b[0mdsize\u001b[0m\u001b[1;33m=\u001b[0m\u001b[1;32mNone\u001b[0m\u001b[1;33m,\u001b[0m\u001b[0mfx\u001b[0m\u001b[1;33m=\u001b[0m\u001b[1;36m1.0\u001b[0m\u001b[1;33m,\u001b[0m\u001b[0mfy\u001b[0m\u001b[1;33m=\u001b[0m\u001b[1;36m1.0\u001b[0m\u001b[1;33m)\u001b[0m\u001b[1;33m\u001b[0m\u001b[1;33m\u001b[0m\u001b[0m\n\u001b[0m\u001b[0;32m     14\u001b[0m         \u001b[1;31m# 그레이 스케일 변환\u001b[0m\u001b[1;33m\u001b[0m\u001b[1;33m\u001b[0m\u001b[1;33m\u001b[0m\u001b[0m\n\u001b[0;32m     15\u001b[0m         \u001b[0mgray\u001b[0m \u001b[1;33m=\u001b[0m \u001b[0mcv2\u001b[0m\u001b[1;33m.\u001b[0m\u001b[0mcvtColor\u001b[0m\u001b[1;33m(\u001b[0m\u001b[0mimg\u001b[0m\u001b[1;33m,\u001b[0m \u001b[0mcv2\u001b[0m\u001b[1;33m.\u001b[0m\u001b[0mCOLOR_BGR2GRAY\u001b[0m\u001b[1;33m)\u001b[0m\u001b[1;33m\u001b[0m\u001b[1;33m\u001b[0m\u001b[0m\n",
      "\u001b[1;31merror\u001b[0m: OpenCV(4.5.2) C:\\Users\\runneradmin\\AppData\\Local\\Temp\\pip-req-build-_8k9tw8n\\opencv\\modules\\imgproc\\src\\resize.cpp:4051: error: (-215:Assertion failed) !ssize.empty() in function 'cv::resize'\n"
     ]
    }
   ],
   "source": [
    "# 영상 검출기\n",
    "def videoDetector(cam,cascade):\n",
    "    \n",
    "    while True:\n",
    "        \n",
    "        start_t = timeit.default_timer()\n",
    "         # 알고리즘 시작 시점\n",
    "        \"\"\" 알고리즘 연산 \"\"\"\n",
    "        \n",
    "        # 캡처 이미지 불러오기\n",
    "        ret,img = cam.read()\n",
    "        # 영상 압축\n",
    "        img = cv2.resize(img,dsize=None,fx=1.0,fy=1.0)\n",
    "        # 그레이 스케일 변환\n",
    "        gray = cv2.cvtColor(img, cv2.COLOR_BGR2GRAY) \n",
    "        # cascade 얼굴 탐지 알고리즘 \n",
    "        results = cascade.detectMultiScale(gray,            # 입력 이미지\n",
    "                                           scaleFactor= 1.1,# 이미지 피라미드 스케일 factor\n",
    "                                           minNeighbors=5,  # 인접 객체 최소 거리 픽셀\n",
    "                                           minSize=(20,20)  # 탐지 객체 최소 크기\n",
    "                                           )\n",
    "                                                                           \n",
    "        for box in results:\n",
    "            x, y, w, h = box\n",
    "            cv2.rectangle(img, (x,y), (x+w, y+h), (255,255,255), thickness=2)\n",
    "     \n",
    "        \"\"\" 알고리즘 연산 \"\"\" \n",
    "        # 알고리즘 종료 시점\n",
    "        terminate_t = timeit.default_timer()\n",
    "        FPS = 'fps' + str(int(1./(terminate_t - start_t )))\n",
    "        cv2.putText(img,FPS,(30,30),cv2.FONT_HERSHEY_SIMPLEX,1,(255,255,255),1)\n",
    "        \n",
    "        \n",
    "         # 영상 출력        \n",
    "        cv2.imshow('facenet',img)\n",
    "        \n",
    "        if cv2.waitKey(1) > 0: \n",
    "  \n",
    "            break\n",
    "\n",
    "# 사진 검출기   \n",
    "def imgDetector(img,cascade):\n",
    "    \n",
    "    # 영상 압축\n",
    "    img = cv2.resize(img,dsize=None,fx=1.0,fy=1.0)\n",
    "    # 그레이 스케일 변환\n",
    "    gray = cv2.cvtColor(img, cv2.COLOR_BGR2GRAY) \n",
    "    # cascade 얼굴 탐지 알고리즘 \n",
    "    results = cascade.detectMultiScale(gray,            # 입력 이미지\n",
    "                                       scaleFactor= 1.5,# 이미지 피라미드 스케일 factor\n",
    "                                       minNeighbors=5,  # 인접 객체 최소 거리 픽셀\n",
    "                                       minSize=(20,20)  # 탐지 객체 최소 크기\n",
    "                                       )        \n",
    "        \n",
    "    for box in results:\n",
    "            \n",
    "        x, y, w, h = box\n",
    "        cv2.rectangle(img, (x,y), (x+w, y+h), (255,255,255), thickness=2)\n",
    "    \n",
    "    # 사진 출력        \n",
    "    cv2.imshow('facenet',img)  \n",
    "    cv2.waitKey(10000)\n",
    "\n",
    "    \n",
    "\n",
    "\n",
    "# 가중치 파일 경로\n",
    "cascade_filename = 'haarcascade_frontalface_alt.xml'\n",
    "# 모델 불러오기\n",
    "cascade = cv2.CascadeClassifier(cascade_filename)\n",
    "\n",
    "# 영상 파일 \n",
    "cam = cv2.VideoCapture('sample.mp4')\n",
    "# 이미지 파일\n",
    "img = cv2.imread('sample.jpg')\n",
    "\n",
    "# 영상 탐지기\n",
    "videoDetector(cam,cascade)\n",
    "# 사진 탐지기\n",
    "# imgDetector(cam,cascade)"
   ]
  },
  {
   "cell_type": "code",
   "execution_count": null,
   "metadata": {},
   "outputs": [],
   "source": []
  }
 ],
 "metadata": {
  "kernelspec": {
   "display_name": "Python 3",
   "language": "python",
   "name": "python3"
  },
  "language_info": {
   "codemirror_mode": {
    "name": "ipython",
    "version": 3
   },
   "file_extension": ".py",
   "mimetype": "text/x-python",
   "name": "python",
   "nbconvert_exporter": "python",
   "pygments_lexer": "ipython3",
   "version": "3.8.5"
  }
 },
 "nbformat": 4,
 "nbformat_minor": 4
}
